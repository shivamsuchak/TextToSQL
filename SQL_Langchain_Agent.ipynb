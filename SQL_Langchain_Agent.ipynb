{
 "cells": [
  {
   "cell_type": "code",
   "execution_count": 1,
   "id": "b2650f4a",
   "metadata": {},
   "outputs": [],
   "source": [
    "import os\n",
    "import random\n",
    "from datetime import date, timedelta\n",
    "from sqlalchemy.orm import declarative_base, relationship, sessionmaker\n",
    "from sqlalchemy import create_engine, Column, Integer, String, ForeignKey, Date, Float\n",
    "import sqlite3\n",
    "import re\n",
    "import ast\n",
    "import json\n",
    "import contextlib"
   ]
  },
  {
   "cell_type": "code",
   "execution_count": 2,
   "id": "166fff2f",
   "metadata": {},
   "outputs": [],
   "source": [
    "\n",
    "\n",
    "def extract_sql_code_block(text: str) -> str:\n",
    "    \"\"\"\n",
    "    Extracts SQL from markdown-style code blocks if present.\n",
    "    If the input looks like a list of tuples in string form, it will:\n",
    "    - Parse the list\n",
    "    - Quote all inner values\n",
    "    - Sort the list\n",
    "    - Return a string of tuples joined by commas\n",
    "    \"\"\"\n",
    "    text = text.strip()\n",
    "\n",
    "    # Handle SQL code block: ```sql ... ```\n",
    "    match = re.search(r\"```sql\\s*(.*?)\\s*```\", text, re.DOTALL | re.IGNORECASE)\n",
    "    if match:\n",
    "        sql = match.group(1).replace('\\n', ' ').strip()\n",
    "        return sql\n",
    "\n",
    "    # Handle list-of-tuples-as-string case\n",
    "    try:\n",
    "        # Safely evaluate the string to a Python list\n",
    "        parsed = ast.literal_eval(text)\n",
    "        if isinstance(parsed, list) and all(isinstance(item, tuple) for item in parsed):\n",
    "            # Convert all inner items to strings and quote them\n",
    "            normalized = [\n",
    "                tuple(str(x).strip() for x in row)\n",
    "                for row in parsed\n",
    "            ]\n",
    "            # Sort for consistent comparison\n",
    "            sorted_rows = sorted(normalized)\n",
    "            return \", \".join(str(row) for row in sorted_rows)\n",
    "    except Exception:\n",
    "        pass\n",
    "\n",
    "    # Fallback: remove brackets if it looks like a wrapped string\n",
    "    if text.startswith(\"[\") and text.endswith(\"]\"):\n",
    "        text = text[1:-1].strip().strip(\"'\\\"\")\n",
    "\n",
    "    return text.replace('\\n', ' ').strip()"
   ]
  },
  {
   "cell_type": "code",
   "execution_count": 3,
   "id": "4cfcef38",
   "metadata": {},
   "outputs": [],
   "source": [
    "import getpass\n",
    "import os\n",
    "\n",
    "if \"TOGETHER_API_KEY\" not in os.environ:\n",
    "    os.environ[\"TOGETHER_API_KEY\"] = getpass.getpass(\"af437c26f93bd7d80c5d9af2c63e4e8c44886676503bc843cc133803892a41f0\")"
   ]
  },
  {
   "cell_type": "code",
   "execution_count": 6,
   "id": "35ed6416",
   "metadata": {},
   "outputs": [],
   "source": [
    "import os\n",
    "os.environ[\"TOGETHER_API_KEY\"] = \"af437c26f93bd7d80c5d9af2c63e4e8c44886676503bc843cc133803892a41f0\""
   ]
  },
  {
   "cell_type": "code",
   "execution_count": 7,
   "id": "84145ef1",
   "metadata": {},
   "outputs": [
    {
     "data": {
      "text/plain": [
       "'af437c26f93bd7d80c5d9af2c63e4e8c44886676503bc843cc133803892a41f0'"
      ]
     },
     "execution_count": 7,
     "metadata": {},
     "output_type": "execute_result"
    }
   ],
   "source": [
    "os.environ[\"TOGETHER_API_KEY\"]"
   ]
  },
  {
   "cell_type": "code",
   "execution_count": 8,
   "id": "f9c3499b",
   "metadata": {},
   "outputs": [],
   "source": [
    "from langchain_together import ChatTogether\n",
    "\n",
    "llm = ChatTogether(\n",
    "    model=\"meta-llama/Llama-3.3-70B-Instruct-Turbo-Free\",\n",
    "    temperature=0,\n",
    "    max_tokens=None,\n",
    "    timeout=None,\n",
    "    max_retries=2,\n",
    "    # other params...\n",
    ")"
   ]
  },
  {
   "cell_type": "code",
   "execution_count": 9,
   "id": "d4ec2c23",
   "metadata": {},
   "outputs": [
    {
     "data": {
      "text/plain": [
       "'I\\'m an artificial intelligence model known as Llama. Llama stands for \"Large Language Model Meta AI.\"'"
      ]
     },
     "execution_count": 9,
     "metadata": {},
     "output_type": "execute_result"
    }
   ],
   "source": [
    "llm.invoke(\"who are you?\").content"
   ]
  },
  {
   "cell_type": "code",
   "execution_count": null,
   "id": "a5f2cbf1",
   "metadata": {},
   "outputs": [],
   "source": [
    "from langchain.chat_models import ChatOpenAI\n",
    "\n",
    "llm = ChatOpenAI(\n",
    "    model_name=\"togethercomputer/llama-3-70b\",\n",
    "    openai_api_base=\"https://api.together.xyz/v1\",\n",
    "    openai_api_key=\"your_together_ai_api_key\"\n",
    ")"
   ]
  },
  {
   "cell_type": "code",
   "execution_count": 3,
   "id": "2a36b691",
   "metadata": {},
   "outputs": [],
   "source": [
    "# Tugberk Groq API Key\n",
    "#GROQ_API_KEY=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\n",
    "#-------------\n",
    "#GROQ_API_KEY=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\n",
    "# GROQ_API_KEY=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\n",
    "#--------Shivam\n",
    "#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"
   ]
  },
  {
   "cell_type": "code",
   "execution_count": null,
   "id": "e94a5da0",
   "metadata": {},
   "outputs": [],
   "source": [
    "os.environ[\"GROQ_API_KEY\"]=\"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\""
   ]
  },
  {
   "cell_type": "code",
   "execution_count": null,
   "id": "78853cab",
   "metadata": {},
   "outputs": [
    {
     "ename": "BadRequestError",
     "evalue": "Error code: 400 - {'error': {'message': 'Organization has been restricted. Please reach out to support if you believe this was in error.', 'type': 'invalid_request_error', 'code': 'organization_restricted'}}",
     "output_type": "error",
     "traceback": [
      "\u001b[0;31m---------------------------------------------------------------------------\u001b[0m",
      "\u001b[0;31mBadRequestError\u001b[0m                           Traceback (most recent call last)",
      "Cell \u001b[0;32mIn[5], line 8\u001b[0m\n\u001b[1;32m      3\u001b[0m \u001b[38;5;66;03m#os.environ['GROQ_API_KEY'] = userdata.get('GROQ_API_KEY')\u001b[39;00m\n\u001b[1;32m      4\u001b[0m \u001b[38;5;66;03m#os.environ['GROQ_API_KEY'] = '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'\u001b[39;00m\n\u001b[1;32m      6\u001b[0m llm \u001b[38;5;241m=\u001b[39m ChatGroq(model\u001b[38;5;241m=\u001b[39m\u001b[38;5;124m'\u001b[39m\u001b[38;5;124mllama-3.3-70b-versatile\u001b[39m\u001b[38;5;124m'\u001b[39m)\n\u001b[0;32m----> 8\u001b[0m \u001b[38;5;28mprint\u001b[39m(\u001b[43mllm\u001b[49m\u001b[38;5;241;43m.\u001b[39;49m\u001b[43minvoke\u001b[49m\u001b[43m(\u001b[49m\u001b[38;5;124;43m'\u001b[39;49m\u001b[38;5;124;43mwho are you?\u001b[39;49m\u001b[38;5;124;43m'\u001b[39;49m\u001b[43m)\u001b[49m\u001b[38;5;241m.\u001b[39mcontent)\n",
      "File \u001b[0;32m~/Desktop/GitHub/ML/lib/python3.9/site-packages/langchain_core/language_models/chat_models.py:371\u001b[0m, in \u001b[0;36mBaseChatModel.invoke\u001b[0;34m(self, input, config, stop, **kwargs)\u001b[0m\n\u001b[1;32m    359\u001b[0m \u001b[38;5;129m@override\u001b[39m\n\u001b[1;32m    360\u001b[0m \u001b[38;5;28;01mdef\u001b[39;00m \u001b[38;5;21minvoke\u001b[39m(\n\u001b[1;32m    361\u001b[0m     \u001b[38;5;28mself\u001b[39m,\n\u001b[0;32m   (...)\u001b[0m\n\u001b[1;32m    366\u001b[0m     \u001b[38;5;241m*\u001b[39m\u001b[38;5;241m*\u001b[39mkwargs: Any,\n\u001b[1;32m    367\u001b[0m ) \u001b[38;5;241m-\u001b[39m\u001b[38;5;241m>\u001b[39m BaseMessage:\n\u001b[1;32m    368\u001b[0m     config \u001b[38;5;241m=\u001b[39m ensure_config(config)\n\u001b[1;32m    369\u001b[0m     \u001b[38;5;28;01mreturn\u001b[39;00m cast(\n\u001b[1;32m    370\u001b[0m         \u001b[38;5;124m\"\u001b[39m\u001b[38;5;124mChatGeneration\u001b[39m\u001b[38;5;124m\"\u001b[39m,\n\u001b[0;32m--> 371\u001b[0m         \u001b[38;5;28;43mself\u001b[39;49m\u001b[38;5;241;43m.\u001b[39;49m\u001b[43mgenerate_prompt\u001b[49m\u001b[43m(\u001b[49m\n\u001b[1;32m    372\u001b[0m \u001b[43m            \u001b[49m\u001b[43m[\u001b[49m\u001b[38;5;28;43mself\u001b[39;49m\u001b[38;5;241;43m.\u001b[39;49m\u001b[43m_convert_input\u001b[49m\u001b[43m(\u001b[49m\u001b[38;5;28;43minput\u001b[39;49m\u001b[43m)\u001b[49m\u001b[43m]\u001b[49m\u001b[43m,\u001b[49m\n\u001b[1;32m    373\u001b[0m \u001b[43m            \u001b[49m\u001b[43mstop\u001b[49m\u001b[38;5;241;43m=\u001b[39;49m\u001b[43mstop\u001b[49m\u001b[43m,\u001b[49m\n\u001b[1;32m    374\u001b[0m \u001b[43m            \u001b[49m\u001b[43mcallbacks\u001b[49m\u001b[38;5;241;43m=\u001b[39;49m\u001b[43mconfig\u001b[49m\u001b[38;5;241;43m.\u001b[39;49m\u001b[43mget\u001b[49m\u001b[43m(\u001b[49m\u001b[38;5;124;43m\"\u001b[39;49m\u001b[38;5;124;43mcallbacks\u001b[39;49m\u001b[38;5;124;43m\"\u001b[39;49m\u001b[43m)\u001b[49m\u001b[43m,\u001b[49m\n\u001b[1;32m    375\u001b[0m \u001b[43m            \u001b[49m\u001b[43mtags\u001b[49m\u001b[38;5;241;43m=\u001b[39;49m\u001b[43mconfig\u001b[49m\u001b[38;5;241;43m.\u001b[39;49m\u001b[43mget\u001b[49m\u001b[43m(\u001b[49m\u001b[38;5;124;43m\"\u001b[39;49m\u001b[38;5;124;43mtags\u001b[39;49m\u001b[38;5;124;43m\"\u001b[39;49m\u001b[43m)\u001b[49m\u001b[43m,\u001b[49m\n\u001b[1;32m    376\u001b[0m \u001b[43m            \u001b[49m\u001b[43mmetadata\u001b[49m\u001b[38;5;241;43m=\u001b[39;49m\u001b[43mconfig\u001b[49m\u001b[38;5;241;43m.\u001b[39;49m\u001b[43mget\u001b[49m\u001b[43m(\u001b[49m\u001b[38;5;124;43m\"\u001b[39;49m\u001b[38;5;124;43mmetadata\u001b[39;49m\u001b[38;5;124;43m\"\u001b[39;49m\u001b[43m)\u001b[49m\u001b[43m,\u001b[49m\n\u001b[1;32m    377\u001b[0m \u001b[43m            \u001b[49m\u001b[43mrun_name\u001b[49m\u001b[38;5;241;43m=\u001b[39;49m\u001b[43mconfig\u001b[49m\u001b[38;5;241;43m.\u001b[39;49m\u001b[43mget\u001b[49m\u001b[43m(\u001b[49m\u001b[38;5;124;43m\"\u001b[39;49m\u001b[38;5;124;43mrun_name\u001b[39;49m\u001b[38;5;124;43m\"\u001b[39;49m\u001b[43m)\u001b[49m\u001b[43m,\u001b[49m\n\u001b[1;32m    378\u001b[0m \u001b[43m            \u001b[49m\u001b[43mrun_id\u001b[49m\u001b[38;5;241;43m=\u001b[39;49m\u001b[43mconfig\u001b[49m\u001b[38;5;241;43m.\u001b[39;49m\u001b[43mpop\u001b[49m\u001b[43m(\u001b[49m\u001b[38;5;124;43m\"\u001b[39;49m\u001b[38;5;124;43mrun_id\u001b[39;49m\u001b[38;5;124;43m\"\u001b[39;49m\u001b[43m,\u001b[49m\u001b[43m \u001b[49m\u001b[38;5;28;43;01mNone\u001b[39;49;00m\u001b[43m)\u001b[49m\u001b[43m,\u001b[49m\n\u001b[1;32m    379\u001b[0m \u001b[43m            \u001b[49m\u001b[38;5;241;43m*\u001b[39;49m\u001b[38;5;241;43m*\u001b[39;49m\u001b[43mkwargs\u001b[49m\u001b[43m,\u001b[49m\n\u001b[1;32m    380\u001b[0m \u001b[43m        \u001b[49m\u001b[43m)\u001b[49m\u001b[38;5;241m.\u001b[39mgenerations[\u001b[38;5;241m0\u001b[39m][\u001b[38;5;241m0\u001b[39m],\n\u001b[1;32m    381\u001b[0m     )\u001b[38;5;241m.\u001b[39mmessage\n",
      "File \u001b[0;32m~/Desktop/GitHub/ML/lib/python3.9/site-packages/langchain_core/language_models/chat_models.py:956\u001b[0m, in \u001b[0;36mBaseChatModel.generate_prompt\u001b[0;34m(self, prompts, stop, callbacks, **kwargs)\u001b[0m\n\u001b[1;32m    947\u001b[0m \u001b[38;5;129m@override\u001b[39m\n\u001b[1;32m    948\u001b[0m \u001b[38;5;28;01mdef\u001b[39;00m \u001b[38;5;21mgenerate_prompt\u001b[39m(\n\u001b[1;32m    949\u001b[0m     \u001b[38;5;28mself\u001b[39m,\n\u001b[0;32m   (...)\u001b[0m\n\u001b[1;32m    953\u001b[0m     \u001b[38;5;241m*\u001b[39m\u001b[38;5;241m*\u001b[39mkwargs: Any,\n\u001b[1;32m    954\u001b[0m ) \u001b[38;5;241m-\u001b[39m\u001b[38;5;241m>\u001b[39m LLMResult:\n\u001b[1;32m    955\u001b[0m     prompt_messages \u001b[38;5;241m=\u001b[39m [p\u001b[38;5;241m.\u001b[39mto_messages() \u001b[38;5;28;01mfor\u001b[39;00m p \u001b[38;5;129;01min\u001b[39;00m prompts]\n\u001b[0;32m--> 956\u001b[0m     \u001b[38;5;28;01mreturn\u001b[39;00m \u001b[38;5;28;43mself\u001b[39;49m\u001b[38;5;241;43m.\u001b[39;49m\u001b[43mgenerate\u001b[49m\u001b[43m(\u001b[49m\u001b[43mprompt_messages\u001b[49m\u001b[43m,\u001b[49m\u001b[43m \u001b[49m\u001b[43mstop\u001b[49m\u001b[38;5;241;43m=\u001b[39;49m\u001b[43mstop\u001b[49m\u001b[43m,\u001b[49m\u001b[43m \u001b[49m\u001b[43mcallbacks\u001b[49m\u001b[38;5;241;43m=\u001b[39;49m\u001b[43mcallbacks\u001b[49m\u001b[43m,\u001b[49m\u001b[43m \u001b[49m\u001b[38;5;241;43m*\u001b[39;49m\u001b[38;5;241;43m*\u001b[39;49m\u001b[43mkwargs\u001b[49m\u001b[43m)\u001b[49m\n",
      "File \u001b[0;32m~/Desktop/GitHub/ML/lib/python3.9/site-packages/langchain_core/language_models/chat_models.py:775\u001b[0m, in \u001b[0;36mBaseChatModel.generate\u001b[0;34m(self, messages, stop, callbacks, tags, metadata, run_name, run_id, **kwargs)\u001b[0m\n\u001b[1;32m    772\u001b[0m \u001b[38;5;28;01mfor\u001b[39;00m i, m \u001b[38;5;129;01min\u001b[39;00m \u001b[38;5;28menumerate\u001b[39m(input_messages):\n\u001b[1;32m    773\u001b[0m     \u001b[38;5;28;01mtry\u001b[39;00m:\n\u001b[1;32m    774\u001b[0m         results\u001b[38;5;241m.\u001b[39mappend(\n\u001b[0;32m--> 775\u001b[0m             \u001b[38;5;28;43mself\u001b[39;49m\u001b[38;5;241;43m.\u001b[39;49m\u001b[43m_generate_with_cache\u001b[49m\u001b[43m(\u001b[49m\n\u001b[1;32m    776\u001b[0m \u001b[43m                \u001b[49m\u001b[43mm\u001b[49m\u001b[43m,\u001b[49m\n\u001b[1;32m    777\u001b[0m \u001b[43m                \u001b[49m\u001b[43mstop\u001b[49m\u001b[38;5;241;43m=\u001b[39;49m\u001b[43mstop\u001b[49m\u001b[43m,\u001b[49m\n\u001b[1;32m    778\u001b[0m \u001b[43m                \u001b[49m\u001b[43mrun_manager\u001b[49m\u001b[38;5;241;43m=\u001b[39;49m\u001b[43mrun_managers\u001b[49m\u001b[43m[\u001b[49m\u001b[43mi\u001b[49m\u001b[43m]\u001b[49m\u001b[43m \u001b[49m\u001b[38;5;28;43;01mif\u001b[39;49;00m\u001b[43m \u001b[49m\u001b[43mrun_managers\u001b[49m\u001b[43m \u001b[49m\u001b[38;5;28;43;01melse\u001b[39;49;00m\u001b[43m \u001b[49m\u001b[38;5;28;43;01mNone\u001b[39;49;00m\u001b[43m,\u001b[49m\n\u001b[1;32m    779\u001b[0m \u001b[43m                \u001b[49m\u001b[38;5;241;43m*\u001b[39;49m\u001b[38;5;241;43m*\u001b[39;49m\u001b[43mkwargs\u001b[49m\u001b[43m,\u001b[49m\n\u001b[1;32m    780\u001b[0m \u001b[43m            \u001b[49m\u001b[43m)\u001b[49m\n\u001b[1;32m    781\u001b[0m         )\n\u001b[1;32m    782\u001b[0m     \u001b[38;5;28;01mexcept\u001b[39;00m \u001b[38;5;167;01mBaseException\u001b[39;00m \u001b[38;5;28;01mas\u001b[39;00m e:\n\u001b[1;32m    783\u001b[0m         \u001b[38;5;28;01mif\u001b[39;00m run_managers:\n",
      "File \u001b[0;32m~/Desktop/GitHub/ML/lib/python3.9/site-packages/langchain_core/language_models/chat_models.py:1021\u001b[0m, in \u001b[0;36mBaseChatModel._generate_with_cache\u001b[0;34m(self, messages, stop, run_manager, **kwargs)\u001b[0m\n\u001b[1;32m   1019\u001b[0m     result \u001b[38;5;241m=\u001b[39m generate_from_stream(\u001b[38;5;28miter\u001b[39m(chunks))\n\u001b[1;32m   1020\u001b[0m \u001b[38;5;28;01melif\u001b[39;00m inspect\u001b[38;5;241m.\u001b[39msignature(\u001b[38;5;28mself\u001b[39m\u001b[38;5;241m.\u001b[39m_generate)\u001b[38;5;241m.\u001b[39mparameters\u001b[38;5;241m.\u001b[39mget(\u001b[38;5;124m\"\u001b[39m\u001b[38;5;124mrun_manager\u001b[39m\u001b[38;5;124m\"\u001b[39m):\n\u001b[0;32m-> 1021\u001b[0m     result \u001b[38;5;241m=\u001b[39m \u001b[38;5;28;43mself\u001b[39;49m\u001b[38;5;241;43m.\u001b[39;49m\u001b[43m_generate\u001b[49m\u001b[43m(\u001b[49m\n\u001b[1;32m   1022\u001b[0m \u001b[43m        \u001b[49m\u001b[43mmessages\u001b[49m\u001b[43m,\u001b[49m\u001b[43m \u001b[49m\u001b[43mstop\u001b[49m\u001b[38;5;241;43m=\u001b[39;49m\u001b[43mstop\u001b[49m\u001b[43m,\u001b[49m\u001b[43m \u001b[49m\u001b[43mrun_manager\u001b[49m\u001b[38;5;241;43m=\u001b[39;49m\u001b[43mrun_manager\u001b[49m\u001b[43m,\u001b[49m\u001b[43m \u001b[49m\u001b[38;5;241;43m*\u001b[39;49m\u001b[38;5;241;43m*\u001b[39;49m\u001b[43mkwargs\u001b[49m\n\u001b[1;32m   1023\u001b[0m \u001b[43m    \u001b[49m\u001b[43m)\u001b[49m\n\u001b[1;32m   1024\u001b[0m \u001b[38;5;28;01melse\u001b[39;00m:\n\u001b[1;32m   1025\u001b[0m     result \u001b[38;5;241m=\u001b[39m \u001b[38;5;28mself\u001b[39m\u001b[38;5;241m.\u001b[39m_generate(messages, stop\u001b[38;5;241m=\u001b[39mstop, \u001b[38;5;241m*\u001b[39m\u001b[38;5;241m*\u001b[39mkwargs)\n",
      "File \u001b[0;32m~/Desktop/GitHub/ML/lib/python3.9/site-packages/langchain_groq/chat_models.py:498\u001b[0m, in \u001b[0;36mChatGroq._generate\u001b[0;34m(self, messages, stop, run_manager, **kwargs)\u001b[0m\n\u001b[1;32m    493\u001b[0m message_dicts, params \u001b[38;5;241m=\u001b[39m \u001b[38;5;28mself\u001b[39m\u001b[38;5;241m.\u001b[39m_create_message_dicts(messages, stop)\n\u001b[1;32m    494\u001b[0m params \u001b[38;5;241m=\u001b[39m {\n\u001b[1;32m    495\u001b[0m     \u001b[38;5;241m*\u001b[39m\u001b[38;5;241m*\u001b[39mparams,\n\u001b[1;32m    496\u001b[0m     \u001b[38;5;241m*\u001b[39m\u001b[38;5;241m*\u001b[39mkwargs,\n\u001b[1;32m    497\u001b[0m }\n\u001b[0;32m--> 498\u001b[0m response \u001b[38;5;241m=\u001b[39m \u001b[38;5;28;43mself\u001b[39;49m\u001b[38;5;241;43m.\u001b[39;49m\u001b[43mclient\u001b[49m\u001b[38;5;241;43m.\u001b[39;49m\u001b[43mcreate\u001b[49m\u001b[43m(\u001b[49m\u001b[43mmessages\u001b[49m\u001b[38;5;241;43m=\u001b[39;49m\u001b[43mmessage_dicts\u001b[49m\u001b[43m,\u001b[49m\u001b[43m \u001b[49m\u001b[38;5;241;43m*\u001b[39;49m\u001b[38;5;241;43m*\u001b[39;49m\u001b[43mparams\u001b[49m\u001b[43m)\u001b[49m\n\u001b[1;32m    499\u001b[0m \u001b[38;5;28;01mreturn\u001b[39;00m \u001b[38;5;28mself\u001b[39m\u001b[38;5;241m.\u001b[39m_create_chat_result(response)\n",
      "File \u001b[0;32m~/Desktop/GitHub/ML/lib/python3.9/site-packages/groq/resources/chat/completions.py:355\u001b[0m, in \u001b[0;36mCompletions.create\u001b[0;34m(self, messages, model, exclude_domains, frequency_penalty, function_call, functions, include_domains, logit_bias, logprobs, max_completion_tokens, max_tokens, metadata, n, parallel_tool_calls, presence_penalty, reasoning_format, response_format, seed, service_tier, stop, store, stream, temperature, tool_choice, tools, top_logprobs, top_p, user, extra_headers, extra_query, extra_body, timeout)\u001b[0m\n\u001b[1;32m    175\u001b[0m \u001b[38;5;28;01mdef\u001b[39;00m \u001b[38;5;21mcreate\u001b[39m(\n\u001b[1;32m    176\u001b[0m     \u001b[38;5;28mself\u001b[39m,\n\u001b[1;32m    177\u001b[0m     \u001b[38;5;241m*\u001b[39m,\n\u001b[0;32m   (...)\u001b[0m\n\u001b[1;32m    221\u001b[0m     timeout: \u001b[38;5;28mfloat\u001b[39m \u001b[38;5;241m|\u001b[39m httpx\u001b[38;5;241m.\u001b[39mTimeout \u001b[38;5;241m|\u001b[39m \u001b[38;5;28;01mNone\u001b[39;00m \u001b[38;5;241m|\u001b[39m NotGiven \u001b[38;5;241m=\u001b[39m NOT_GIVEN,\n\u001b[1;32m    222\u001b[0m ) \u001b[38;5;241m-\u001b[39m\u001b[38;5;241m>\u001b[39m ChatCompletion \u001b[38;5;241m|\u001b[39m Stream[ChatCompletionChunk]:\n\u001b[1;32m    223\u001b[0m \u001b[38;5;250m    \u001b[39m\u001b[38;5;124;03m\"\"\"\u001b[39;00m\n\u001b[1;32m    224\u001b[0m \u001b[38;5;124;03m    Creates a model response for the given chat conversation.\u001b[39;00m\n\u001b[1;32m    225\u001b[0m \n\u001b[0;32m   (...)\u001b[0m\n\u001b[1;32m    353\u001b[0m \u001b[38;5;124;03m      timeout: Override the client-level default timeout for this request, in seconds\u001b[39;00m\n\u001b[1;32m    354\u001b[0m \u001b[38;5;124;03m    \"\"\"\u001b[39;00m\n\u001b[0;32m--> 355\u001b[0m     \u001b[38;5;28;01mreturn\u001b[39;00m \u001b[38;5;28;43mself\u001b[39;49m\u001b[38;5;241;43m.\u001b[39;49m\u001b[43m_post\u001b[49m\u001b[43m(\u001b[49m\n\u001b[1;32m    356\u001b[0m \u001b[43m        \u001b[49m\u001b[38;5;124;43m\"\u001b[39;49m\u001b[38;5;124;43m/openai/v1/chat/completions\u001b[39;49m\u001b[38;5;124;43m\"\u001b[39;49m\u001b[43m,\u001b[49m\n\u001b[1;32m    357\u001b[0m \u001b[43m        \u001b[49m\u001b[43mbody\u001b[49m\u001b[38;5;241;43m=\u001b[39;49m\u001b[43mmaybe_transform\u001b[49m\u001b[43m(\u001b[49m\n\u001b[1;32m    358\u001b[0m \u001b[43m            \u001b[49m\u001b[43m{\u001b[49m\n\u001b[1;32m    359\u001b[0m \u001b[43m                \u001b[49m\u001b[38;5;124;43m\"\u001b[39;49m\u001b[38;5;124;43mmessages\u001b[39;49m\u001b[38;5;124;43m\"\u001b[39;49m\u001b[43m:\u001b[49m\u001b[43m \u001b[49m\u001b[43mmessages\u001b[49m\u001b[43m,\u001b[49m\n\u001b[1;32m    360\u001b[0m \u001b[43m                \u001b[49m\u001b[38;5;124;43m\"\u001b[39;49m\u001b[38;5;124;43mmodel\u001b[39;49m\u001b[38;5;124;43m\"\u001b[39;49m\u001b[43m:\u001b[49m\u001b[43m \u001b[49m\u001b[43mmodel\u001b[49m\u001b[43m,\u001b[49m\n\u001b[1;32m    361\u001b[0m \u001b[43m                \u001b[49m\u001b[38;5;124;43m\"\u001b[39;49m\u001b[38;5;124;43mexclude_domains\u001b[39;49m\u001b[38;5;124;43m\"\u001b[39;49m\u001b[43m:\u001b[49m\u001b[43m \u001b[49m\u001b[43mexclude_domains\u001b[49m\u001b[43m,\u001b[49m\n\u001b[1;32m    362\u001b[0m \u001b[43m                \u001b[49m\u001b[38;5;124;43m\"\u001b[39;49m\u001b[38;5;124;43mfrequency_penalty\u001b[39;49m\u001b[38;5;124;43m\"\u001b[39;49m\u001b[43m:\u001b[49m\u001b[43m \u001b[49m\u001b[43mfrequency_penalty\u001b[49m\u001b[43m,\u001b[49m\n\u001b[1;32m    363\u001b[0m \u001b[43m                \u001b[49m\u001b[38;5;124;43m\"\u001b[39;49m\u001b[38;5;124;43mfunction_call\u001b[39;49m\u001b[38;5;124;43m\"\u001b[39;49m\u001b[43m:\u001b[49m\u001b[43m \u001b[49m\u001b[43mfunction_call\u001b[49m\u001b[43m,\u001b[49m\n\u001b[1;32m    364\u001b[0m \u001b[43m                \u001b[49m\u001b[38;5;124;43m\"\u001b[39;49m\u001b[38;5;124;43mfunctions\u001b[39;49m\u001b[38;5;124;43m\"\u001b[39;49m\u001b[43m:\u001b[49m\u001b[43m \u001b[49m\u001b[43mfunctions\u001b[49m\u001b[43m,\u001b[49m\n\u001b[1;32m    365\u001b[0m \u001b[43m                \u001b[49m\u001b[38;5;124;43m\"\u001b[39;49m\u001b[38;5;124;43minclude_domains\u001b[39;49m\u001b[38;5;124;43m\"\u001b[39;49m\u001b[43m:\u001b[49m\u001b[43m \u001b[49m\u001b[43minclude_domains\u001b[49m\u001b[43m,\u001b[49m\n\u001b[1;32m    366\u001b[0m \u001b[43m                \u001b[49m\u001b[38;5;124;43m\"\u001b[39;49m\u001b[38;5;124;43mlogit_bias\u001b[39;49m\u001b[38;5;124;43m\"\u001b[39;49m\u001b[43m:\u001b[49m\u001b[43m \u001b[49m\u001b[43mlogit_bias\u001b[49m\u001b[43m,\u001b[49m\n\u001b[1;32m    367\u001b[0m \u001b[43m                \u001b[49m\u001b[38;5;124;43m\"\u001b[39;49m\u001b[38;5;124;43mlogprobs\u001b[39;49m\u001b[38;5;124;43m\"\u001b[39;49m\u001b[43m:\u001b[49m\u001b[43m \u001b[49m\u001b[43mlogprobs\u001b[49m\u001b[43m,\u001b[49m\n\u001b[1;32m    368\u001b[0m \u001b[43m                \u001b[49m\u001b[38;5;124;43m\"\u001b[39;49m\u001b[38;5;124;43mmax_completion_tokens\u001b[39;49m\u001b[38;5;124;43m\"\u001b[39;49m\u001b[43m:\u001b[49m\u001b[43m \u001b[49m\u001b[43mmax_completion_tokens\u001b[49m\u001b[43m,\u001b[49m\n\u001b[1;32m    369\u001b[0m \u001b[43m                \u001b[49m\u001b[38;5;124;43m\"\u001b[39;49m\u001b[38;5;124;43mmax_tokens\u001b[39;49m\u001b[38;5;124;43m\"\u001b[39;49m\u001b[43m:\u001b[49m\u001b[43m \u001b[49m\u001b[43mmax_tokens\u001b[49m\u001b[43m,\u001b[49m\n\u001b[1;32m    370\u001b[0m \u001b[43m                \u001b[49m\u001b[38;5;124;43m\"\u001b[39;49m\u001b[38;5;124;43mmetadata\u001b[39;49m\u001b[38;5;124;43m\"\u001b[39;49m\u001b[43m:\u001b[49m\u001b[43m \u001b[49m\u001b[43mmetadata\u001b[49m\u001b[43m,\u001b[49m\n\u001b[1;32m    371\u001b[0m \u001b[43m                \u001b[49m\u001b[38;5;124;43m\"\u001b[39;49m\u001b[38;5;124;43mn\u001b[39;49m\u001b[38;5;124;43m\"\u001b[39;49m\u001b[43m:\u001b[49m\u001b[43m \u001b[49m\u001b[43mn\u001b[49m\u001b[43m,\u001b[49m\n\u001b[1;32m    372\u001b[0m \u001b[43m                \u001b[49m\u001b[38;5;124;43m\"\u001b[39;49m\u001b[38;5;124;43mparallel_tool_calls\u001b[39;49m\u001b[38;5;124;43m\"\u001b[39;49m\u001b[43m:\u001b[49m\u001b[43m \u001b[49m\u001b[43mparallel_tool_calls\u001b[49m\u001b[43m,\u001b[49m\n\u001b[1;32m    373\u001b[0m \u001b[43m                \u001b[49m\u001b[38;5;124;43m\"\u001b[39;49m\u001b[38;5;124;43mpresence_penalty\u001b[39;49m\u001b[38;5;124;43m\"\u001b[39;49m\u001b[43m:\u001b[49m\u001b[43m \u001b[49m\u001b[43mpresence_penalty\u001b[49m\u001b[43m,\u001b[49m\n\u001b[1;32m    374\u001b[0m \u001b[43m                \u001b[49m\u001b[38;5;124;43m\"\u001b[39;49m\u001b[38;5;124;43mreasoning_format\u001b[39;49m\u001b[38;5;124;43m\"\u001b[39;49m\u001b[43m:\u001b[49m\u001b[43m \u001b[49m\u001b[43mreasoning_format\u001b[49m\u001b[43m,\u001b[49m\n\u001b[1;32m    375\u001b[0m \u001b[43m                \u001b[49m\u001b[38;5;124;43m\"\u001b[39;49m\u001b[38;5;124;43mresponse_format\u001b[39;49m\u001b[38;5;124;43m\"\u001b[39;49m\u001b[43m:\u001b[49m\u001b[43m \u001b[49m\u001b[43mresponse_format\u001b[49m\u001b[43m,\u001b[49m\n\u001b[1;32m    376\u001b[0m \u001b[43m                \u001b[49m\u001b[38;5;124;43m\"\u001b[39;49m\u001b[38;5;124;43mseed\u001b[39;49m\u001b[38;5;124;43m\"\u001b[39;49m\u001b[43m:\u001b[49m\u001b[43m \u001b[49m\u001b[43mseed\u001b[49m\u001b[43m,\u001b[49m\n\u001b[1;32m    377\u001b[0m \u001b[43m                \u001b[49m\u001b[38;5;124;43m\"\u001b[39;49m\u001b[38;5;124;43mservice_tier\u001b[39;49m\u001b[38;5;124;43m\"\u001b[39;49m\u001b[43m:\u001b[49m\u001b[43m \u001b[49m\u001b[43mservice_tier\u001b[49m\u001b[43m,\u001b[49m\n\u001b[1;32m    378\u001b[0m \u001b[43m                \u001b[49m\u001b[38;5;124;43m\"\u001b[39;49m\u001b[38;5;124;43mstop\u001b[39;49m\u001b[38;5;124;43m\"\u001b[39;49m\u001b[43m:\u001b[49m\u001b[43m \u001b[49m\u001b[43mstop\u001b[49m\u001b[43m,\u001b[49m\n\u001b[1;32m    379\u001b[0m \u001b[43m                \u001b[49m\u001b[38;5;124;43m\"\u001b[39;49m\u001b[38;5;124;43mstore\u001b[39;49m\u001b[38;5;124;43m\"\u001b[39;49m\u001b[43m:\u001b[49m\u001b[43m \u001b[49m\u001b[43mstore\u001b[49m\u001b[43m,\u001b[49m\n\u001b[1;32m    380\u001b[0m \u001b[43m                \u001b[49m\u001b[38;5;124;43m\"\u001b[39;49m\u001b[38;5;124;43mstream\u001b[39;49m\u001b[38;5;124;43m\"\u001b[39;49m\u001b[43m:\u001b[49m\u001b[43m \u001b[49m\u001b[43mstream\u001b[49m\u001b[43m,\u001b[49m\n\u001b[1;32m    381\u001b[0m \u001b[43m                \u001b[49m\u001b[38;5;124;43m\"\u001b[39;49m\u001b[38;5;124;43mtemperature\u001b[39;49m\u001b[38;5;124;43m\"\u001b[39;49m\u001b[43m:\u001b[49m\u001b[43m \u001b[49m\u001b[43mtemperature\u001b[49m\u001b[43m,\u001b[49m\n\u001b[1;32m    382\u001b[0m \u001b[43m                \u001b[49m\u001b[38;5;124;43m\"\u001b[39;49m\u001b[38;5;124;43mtool_choice\u001b[39;49m\u001b[38;5;124;43m\"\u001b[39;49m\u001b[43m:\u001b[49m\u001b[43m \u001b[49m\u001b[43mtool_choice\u001b[49m\u001b[43m,\u001b[49m\n\u001b[1;32m    383\u001b[0m \u001b[43m                \u001b[49m\u001b[38;5;124;43m\"\u001b[39;49m\u001b[38;5;124;43mtools\u001b[39;49m\u001b[38;5;124;43m\"\u001b[39;49m\u001b[43m:\u001b[49m\u001b[43m \u001b[49m\u001b[43mtools\u001b[49m\u001b[43m,\u001b[49m\n\u001b[1;32m    384\u001b[0m \u001b[43m                \u001b[49m\u001b[38;5;124;43m\"\u001b[39;49m\u001b[38;5;124;43mtop_logprobs\u001b[39;49m\u001b[38;5;124;43m\"\u001b[39;49m\u001b[43m:\u001b[49m\u001b[43m \u001b[49m\u001b[43mtop_logprobs\u001b[49m\u001b[43m,\u001b[49m\n\u001b[1;32m    385\u001b[0m \u001b[43m                \u001b[49m\u001b[38;5;124;43m\"\u001b[39;49m\u001b[38;5;124;43mtop_p\u001b[39;49m\u001b[38;5;124;43m\"\u001b[39;49m\u001b[43m:\u001b[49m\u001b[43m \u001b[49m\u001b[43mtop_p\u001b[49m\u001b[43m,\u001b[49m\n\u001b[1;32m    386\u001b[0m \u001b[43m                \u001b[49m\u001b[38;5;124;43m\"\u001b[39;49m\u001b[38;5;124;43muser\u001b[39;49m\u001b[38;5;124;43m\"\u001b[39;49m\u001b[43m:\u001b[49m\u001b[43m \u001b[49m\u001b[43muser\u001b[49m\u001b[43m,\u001b[49m\n\u001b[1;32m    387\u001b[0m \u001b[43m            \u001b[49m\u001b[43m}\u001b[49m\u001b[43m,\u001b[49m\n\u001b[1;32m    388\u001b[0m \u001b[43m            \u001b[49m\u001b[43mcompletion_create_params\u001b[49m\u001b[38;5;241;43m.\u001b[39;49m\u001b[43mCompletionCreateParams\u001b[49m\u001b[43m,\u001b[49m\n\u001b[1;32m    389\u001b[0m \u001b[43m        \u001b[49m\u001b[43m)\u001b[49m\u001b[43m,\u001b[49m\n\u001b[1;32m    390\u001b[0m \u001b[43m        \u001b[49m\u001b[43moptions\u001b[49m\u001b[38;5;241;43m=\u001b[39;49m\u001b[43mmake_request_options\u001b[49m\u001b[43m(\u001b[49m\n\u001b[1;32m    391\u001b[0m \u001b[43m            \u001b[49m\u001b[43mextra_headers\u001b[49m\u001b[38;5;241;43m=\u001b[39;49m\u001b[43mextra_headers\u001b[49m\u001b[43m,\u001b[49m\u001b[43m \u001b[49m\u001b[43mextra_query\u001b[49m\u001b[38;5;241;43m=\u001b[39;49m\u001b[43mextra_query\u001b[49m\u001b[43m,\u001b[49m\u001b[43m \u001b[49m\u001b[43mextra_body\u001b[49m\u001b[38;5;241;43m=\u001b[39;49m\u001b[43mextra_body\u001b[49m\u001b[43m,\u001b[49m\u001b[43m \u001b[49m\u001b[43mtimeout\u001b[49m\u001b[38;5;241;43m=\u001b[39;49m\u001b[43mtimeout\u001b[49m\n\u001b[1;32m    392\u001b[0m \u001b[43m        \u001b[49m\u001b[43m)\u001b[49m\u001b[43m,\u001b[49m\n\u001b[1;32m    393\u001b[0m \u001b[43m        \u001b[49m\u001b[43mcast_to\u001b[49m\u001b[38;5;241;43m=\u001b[39;49m\u001b[43mChatCompletion\u001b[49m\u001b[43m,\u001b[49m\n\u001b[1;32m    394\u001b[0m \u001b[43m        \u001b[49m\u001b[43mstream\u001b[49m\u001b[38;5;241;43m=\u001b[39;49m\u001b[43mstream\u001b[49m\u001b[43m \u001b[49m\u001b[38;5;129;43;01mor\u001b[39;49;00m\u001b[43m \u001b[49m\u001b[38;5;28;43;01mFalse\u001b[39;49;00m\u001b[43m,\u001b[49m\n\u001b[1;32m    395\u001b[0m \u001b[43m        \u001b[49m\u001b[43mstream_cls\u001b[49m\u001b[38;5;241;43m=\u001b[39;49m\u001b[43mStream\u001b[49m\u001b[43m[\u001b[49m\u001b[43mChatCompletionChunk\u001b[49m\u001b[43m]\u001b[49m\u001b[43m,\u001b[49m\n\u001b[1;32m    396\u001b[0m \u001b[43m    \u001b[49m\u001b[43m)\u001b[49m\n",
      "File \u001b[0;32m~/Desktop/GitHub/ML/lib/python3.9/site-packages/groq/_base_client.py:1222\u001b[0m, in \u001b[0;36mSyncAPIClient.post\u001b[0;34m(self, path, cast_to, body, options, files, stream, stream_cls)\u001b[0m\n\u001b[1;32m   1208\u001b[0m \u001b[38;5;28;01mdef\u001b[39;00m \u001b[38;5;21mpost\u001b[39m(\n\u001b[1;32m   1209\u001b[0m     \u001b[38;5;28mself\u001b[39m,\n\u001b[1;32m   1210\u001b[0m     path: \u001b[38;5;28mstr\u001b[39m,\n\u001b[0;32m   (...)\u001b[0m\n\u001b[1;32m   1217\u001b[0m     stream_cls: \u001b[38;5;28mtype\u001b[39m[_StreamT] \u001b[38;5;241m|\u001b[39m \u001b[38;5;28;01mNone\u001b[39;00m \u001b[38;5;241m=\u001b[39m \u001b[38;5;28;01mNone\u001b[39;00m,\n\u001b[1;32m   1218\u001b[0m ) \u001b[38;5;241m-\u001b[39m\u001b[38;5;241m>\u001b[39m ResponseT \u001b[38;5;241m|\u001b[39m _StreamT:\n\u001b[1;32m   1219\u001b[0m     opts \u001b[38;5;241m=\u001b[39m FinalRequestOptions\u001b[38;5;241m.\u001b[39mconstruct(\n\u001b[1;32m   1220\u001b[0m         method\u001b[38;5;241m=\u001b[39m\u001b[38;5;124m\"\u001b[39m\u001b[38;5;124mpost\u001b[39m\u001b[38;5;124m\"\u001b[39m, url\u001b[38;5;241m=\u001b[39mpath, json_data\u001b[38;5;241m=\u001b[39mbody, files\u001b[38;5;241m=\u001b[39mto_httpx_files(files), \u001b[38;5;241m*\u001b[39m\u001b[38;5;241m*\u001b[39moptions\n\u001b[1;32m   1221\u001b[0m     )\n\u001b[0;32m-> 1222\u001b[0m     \u001b[38;5;28;01mreturn\u001b[39;00m cast(ResponseT, \u001b[38;5;28;43mself\u001b[39;49m\u001b[38;5;241;43m.\u001b[39;49m\u001b[43mrequest\u001b[49m\u001b[43m(\u001b[49m\u001b[43mcast_to\u001b[49m\u001b[43m,\u001b[49m\u001b[43m \u001b[49m\u001b[43mopts\u001b[49m\u001b[43m,\u001b[49m\u001b[43m \u001b[49m\u001b[43mstream\u001b[49m\u001b[38;5;241;43m=\u001b[39;49m\u001b[43mstream\u001b[49m\u001b[43m,\u001b[49m\u001b[43m \u001b[49m\u001b[43mstream_cls\u001b[49m\u001b[38;5;241;43m=\u001b[39;49m\u001b[43mstream_cls\u001b[49m\u001b[43m)\u001b[49m)\n",
      "File \u001b[0;32m~/Desktop/GitHub/ML/lib/python3.9/site-packages/groq/_base_client.py:1031\u001b[0m, in \u001b[0;36mSyncAPIClient.request\u001b[0;34m(self, cast_to, options, stream, stream_cls)\u001b[0m\n\u001b[1;32m   1028\u001b[0m             err\u001b[38;5;241m.\u001b[39mresponse\u001b[38;5;241m.\u001b[39mread()\n\u001b[1;32m   1030\u001b[0m         log\u001b[38;5;241m.\u001b[39mdebug(\u001b[38;5;124m\"\u001b[39m\u001b[38;5;124mRe-raising status error\u001b[39m\u001b[38;5;124m\"\u001b[39m)\n\u001b[0;32m-> 1031\u001b[0m         \u001b[38;5;28;01mraise\u001b[39;00m \u001b[38;5;28mself\u001b[39m\u001b[38;5;241m.\u001b[39m_make_status_error_from_response(err\u001b[38;5;241m.\u001b[39mresponse) \u001b[38;5;28;01mfrom\u001b[39;00m \u001b[38;5;28;01mNone\u001b[39;00m\n\u001b[1;32m   1033\u001b[0m     \u001b[38;5;28;01mbreak\u001b[39;00m\n\u001b[1;32m   1035\u001b[0m \u001b[38;5;28;01massert\u001b[39;00m response \u001b[38;5;129;01mis\u001b[39;00m \u001b[38;5;129;01mnot\u001b[39;00m \u001b[38;5;28;01mNone\u001b[39;00m, \u001b[38;5;124m\"\u001b[39m\u001b[38;5;124mcould not resolve response (should never happen)\u001b[39m\u001b[38;5;124m\"\u001b[39m\n",
      "\u001b[0;31mBadRequestError\u001b[0m: Error code: 400 - {'error': {'message': 'Organization has been restricted. Please reach out to support if you believe this was in error.', 'type': 'invalid_request_error', 'code': 'organization_restricted'}}"
     ]
    }
   ],
   "source": [
    "from langchain_groq import ChatGroq\n",
    "\n",
    "#os.environ['GROQ_API_KEY'] = userdata.get('GROQ_API_KEY')\n",
    "#os.environ['GROQ_API_KEY'] = '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'\n",
    "\n",
    "#llm = ChatGroq(model='llama-3.3-70b-versatile')\n",
    "\n",
    "#print(llm.invoke('who are you?').content)"
   ]
  },
  {
   "cell_type": "code",
   "execution_count": 10,
   "id": "46eb9366",
   "metadata": {},
   "outputs": [
    {
     "name": "stdout",
     "output_type": "stream",
     "text": [
      "sqlite\n"
     ]
    },
    {
     "data": {
      "text/plain": [
       "[QuerySQLDatabaseTool(description=\"Input to this tool is a detailed and correct SQL query, output is a result from the database. If the query is not correct, an error message will be returned. If an error is returned, rewrite the query, check the query, and try again. If you encounter an issue with Unknown column 'xxxx' in 'field list', use sql_db_schema to query the correct table fields.\", db=<langchain_community.utilities.sql_database.SQLDatabase object at 0x11747c940>),\n",
       " InfoSQLDatabaseTool(description='Input to this tool is a comma-separated list of tables, output is the schema and sample rows for those tables. Be sure that the tables actually exist by calling sql_db_list_tables first! Example Input: table1, table2, table3', db=<langchain_community.utilities.sql_database.SQLDatabase object at 0x11747c940>),\n",
       " ListSQLDatabaseTool(db=<langchain_community.utilities.sql_database.SQLDatabase object at 0x11747c940>),\n",
       " QuerySQLCheckerTool(description='Use this tool to double check if your query is correct before executing it. Always use this tool before executing a query with sql_db_query!', db=<langchain_community.utilities.sql_database.SQLDatabase object at 0x11747c940>, llm=ChatTogether(client=<openai.resources.chat.completions.completions.Completions object at 0x115b659d0>, async_client=<openai.resources.chat.completions.completions.AsyncCompletions object at 0x103bbebb0>, model_name='meta-llama/Llama-3.3-70B-Instruct-Turbo-Free', temperature=0.0, model_kwargs={}, max_retries=2, together_api_key=SecretStr('**********'), together_api_base='https://api.together.xyz/v1/'), llm_chain=LLMChain(verbose=False, prompt=PromptTemplate(input_variables=['dialect', 'query'], input_types={}, partial_variables={}, template='\\n{query}\\nDouble check the {dialect} query above for common mistakes, including:\\n- Using NOT IN with NULL values\\n- Using UNION when UNION ALL should have been used\\n- Using BETWEEN for exclusive ranges\\n- Data type mismatch in predicates\\n- Properly quoting identifiers\\n- Using the correct number of arguments for functions\\n- Casting to the correct data type\\n- Using the proper columns for joins\\n\\nIf there are any of the above mistakes, rewrite the query. If there are no mistakes, just reproduce the original query.\\n\\nOutput the final SQL query only.\\n\\nSQL Query: '), llm=ChatTogether(client=<openai.resources.chat.completions.completions.Completions object at 0x115b659d0>, async_client=<openai.resources.chat.completions.completions.AsyncCompletions object at 0x103bbebb0>, model_name='meta-llama/Llama-3.3-70B-Instruct-Turbo-Free', temperature=0.0, model_kwargs={}, max_retries=2, together_api_key=SecretStr('**********'), together_api_base='https://api.together.xyz/v1/'), output_parser=StrOutputParser(), llm_kwargs={}))]"
      ]
     },
     "execution_count": 10,
     "metadata": {},
     "output_type": "execute_result"
    }
   ],
   "source": [
    "from langchain_community.utilities import SQLDatabase\n",
    "db = SQLDatabase.from_uri(\"sqlite:////Users/onurcanmemis/Downloads/spider_data/database/concert_singer/concert_singer.sqlite\")\n",
    "print(db.dialect)\n",
    "from langchain_community.agent_toolkits import SQLDatabaseToolkit\n",
    "\n",
    "toolkit = SQLDatabaseToolkit(db=db, llm=llm)\n",
    "\n",
    "tools = toolkit.get_tools()\n",
    "\n",
    "tools"
   ]
  },
  {
   "cell_type": "code",
   "execution_count": 11,
   "id": "78742440",
   "metadata": {},
   "outputs": [
    {
     "name": "stdout",
     "output_type": "stream",
     "text": [
      "sql_db_query\n",
      "Input to this tool is a detailed and correct SQL query, output is a result from the database. If the query is not correct, an error message will be returned. If an error is returned, rewrite the query, check the query, and try again. If you encounter an issue with Unknown column 'xxxx' in 'field list', use sql_db_schema to query the correct table fields.\n",
      "sql_db_schema\n",
      "Input to this tool is a comma-separated list of tables, output is the schema and sample rows for those tables. Be sure that the tables actually exist by calling sql_db_list_tables first! Example Input: table1, table2, table3\n",
      "sql_db_list_tables\n",
      "Input is an empty string, output is a comma-separated list of tables in the database.\n",
      "sql_db_query_checker\n",
      "Use this tool to double check if your query is correct before executing it. Always use this tool before executing a query with sql_db_query!\n"
     ]
    }
   ],
   "source": [
    "for i in tools:\n",
    "    print(i.name)\n",
    "    print(i.description)"
   ]
  },
  {
   "cell_type": "code",
   "execution_count": 12,
   "id": "b8e1b09f",
   "metadata": {},
   "outputs": [],
   "source": [
    "table_names = db.get_usable_table_names()\n",
    "system_message = \"\"\"\n",
    "You are an agent designed to interact with a SQL database.\n",
    "Given an input question, create a syntactically correct {dialect} query to run,\n",
    "then look at the results of the query and return the answer.\n",
    "You can order the results by a relevant column to return the most interesting\n",
    "examples in the database. Never query for all the columns from a specific table,\n",
    "only ask for the relevant columns given the question.\n",
    "\n",
    "You MUST double check your query before executing it. If you get an error while\n",
    "executing a query, rewrite the query and try again.\n",
    "\n",
    "DO NOT make any DML statements (INSERT, UPDATE, DELETE, DROP etc.) to the\n",
    "database.\n",
    "\n",
    "The tables in the database is given as {table_names}. To start you should ALWAYS look at the tables and their columns in the database to see what you\n",
    "can query. Do NOT skip this step.\n",
    "\n",
    "Then you should query the schema of the most relevant tables.\n",
    "\"\"\".format(\n",
    "    dialect=\"SQLite\",\n",
    "    table_names=\", \".join(table_names)\n",
    ")\n",
    "from langchain_core.messages import HumanMessage\n",
    "from langgraph.prebuilt import create_react_agent\n",
    "\n",
    "agent_executor = create_react_agent(llm, tools, prompt=system_message)"
   ]
  },
  {
   "cell_type": "code",
   "execution_count": 33,
   "id": "190e9a4e",
   "metadata": {},
   "outputs": [],
   "source": [
    "import ast\n",
    "\n",
    "def extract_sql_and_result_from_agent_output(agent_output: dict) -> dict:\n",
    "    \"\"\"\n",
    "    Extract the final SQL query and its returned value from LangGraph-style agent output.\n",
    "\n",
    "    Returns a dictionary with:\n",
    "        - 'gold_sql': SQL query as string\n",
    "        - 'gold_result': formatted string of tuples\n",
    "    \"\"\"\n",
    "    messages = agent_output.get(\"messages\", [])\n",
    "\n",
    "    sql_query = \"\"\n",
    "    sql_result = \"\"\n",
    "\n",
    "    for msg in messages:\n",
    "        if hasattr(msg, \"name\") and msg.name == \"sql_db_query\":\n",
    "            # This is the ToolMessage containing the SQL result\n",
    "            raw_result = msg.content\n",
    "            try:\n",
    "                parsed = ast.literal_eval(raw_result)\n",
    "                if isinstance(parsed, list) and all(isinstance(t, tuple) for t in parsed):\n",
    "                    sorted_rows = sorted(tuple(str(i).strip() for i in row) for row in parsed)\n",
    "                    sql_result = \", \".join(str(row) for row in sorted_rows)\n",
    "            except Exception as e:\n",
    "                sql_result = raw_result  # fallback to raw\n",
    "\n",
    "        elif hasattr(msg, \"tool_calls\"):\n",
    "            for tool_call in msg.tool_calls:\n",
    "                if tool_call[\"name\"] == \"sql_db_query\":\n",
    "                    sql_query = tool_call[\"args\"][\"query\"]\n",
    "\n",
    "    return {\n",
    "        \"generated_sql\": sql_query.strip(),\n",
    "        \"generated_result\": sql_result.strip()\n",
    "    }"
   ]
  },
  {
   "cell_type": "code",
   "execution_count": 25,
   "id": "25397190",
   "metadata": {},
   "outputs": [],
   "source": [
    "answer=agent_executor.invoke(\n",
    "            {\"messages\": [{\"role\": \"user\", \"content\": golden_data_easy[1][\"question\"]}]},\n",
    "            config={\"recursion_limit\": 10}\n",
    "        )"
   ]
  },
  {
   "cell_type": "code",
   "execution_count": 34,
   "id": "a6005b01",
   "metadata": {},
   "outputs": [
    {
     "data": {
      "text/plain": [
       "{'generated_sql': 'SELECT COUNT(*) FROM singer', 'generated_result': \"('6',)\"}"
      ]
     },
     "execution_count": 34,
     "metadata": {},
     "output_type": "execute_result"
    }
   ],
   "source": [
    "extract_sql_and_result_from_agent_output(answer)"
   ]
  },
  {
   "cell_type": "code",
   "execution_count": 10,
   "id": "d17f7dd8",
   "metadata": {},
   "outputs": [
    {
     "name": "stdout",
     "output_type": "stream",
     "text": [
      "================================\u001b[1m Human Message \u001b[0m=================================\n",
      "\n",
      "How many singers do we have?\n",
      "==================================\u001b[1m Ai Message \u001b[0m==================================\n",
      "Tool Calls:\n",
      "  sql_db_list_tables (call_knnk)\n",
      " Call ID: call_knnk\n",
      "  Args:\n",
      "    tool_input:\n",
      "=================================\u001b[1m Tool Message \u001b[0m=================================\n",
      "Name: sql_db_list_tables\n",
      "\n",
      "concert, singer, singer_in_concert, stadium\n",
      "==================================\u001b[1m Ai Message \u001b[0m==================================\n",
      "Tool Calls:\n",
      "  sql_db_schema (call_8605)\n",
      " Call ID: call_8605\n",
      "  Args:\n",
      "    table_names: singer, singer_in_concert, concert, stadium\n",
      "=================================\u001b[1m Tool Message \u001b[0m=================================\n",
      "Name: sql_db_schema\n",
      "\n",
      "\n",
      "CREATE TABLE concert (\n",
      "\t\"concert_ID\" INTEGER, \n",
      "\t\"concert_Name\" TEXT, \n",
      "\t\"Theme\" TEXT, \n",
      "\t\"Stadium_ID\" TEXT, \n",
      "\t\"Year\" TEXT, \n",
      "\tPRIMARY KEY (\"concert_ID\"), \n",
      "\tFOREIGN KEY(\"Stadium_ID\") REFERENCES stadium (\"Stadium_ID\")\n",
      ")\n",
      "\n",
      "/*\n",
      "3 rows from concert table:\n",
      "concert_ID\tconcert_Name\tTheme\tStadium_ID\tYear\n",
      "1\tAuditions\tFree choice\t1\t2014\n",
      "2\tSuper bootcamp\tFree choice 2\t2\t2014\n",
      "3\tHome Visits\tBleeding Love\t2\t2015\n",
      "*/\n",
      "\n",
      "\n",
      "CREATE TABLE singer (\n",
      "\t\"Singer_ID\" INTEGER, \n",
      "\t\"Name\" TEXT, \n",
      "\t\"Country\" TEXT, \n",
      "\t\"Song_Name\" TEXT, \n",
      "\t\"Song_release_year\" TEXT, \n",
      "\t\"Age\" INTEGER, \n",
      "\t\"Is_male\" BOOLEAN, \n",
      "\tPRIMARY KEY (\"Singer_ID\")\n",
      ")\n",
      "\n",
      "/*\n",
      "3 rows from singer table:\n",
      "Singer_ID\tName\tCountry\tSong_Name\tSong_release_year\tAge\tIs_male\n",
      "1\tJoe Sharp\tNetherlands\tYou\t1992\t52\tTrue\n",
      "2\tTimbaland\tUnited States\tDangerous\t2008\t32\tTrue\n",
      "3\tJustin Brown\tFrance\tHey Oh\t2013\t29\tTrue\n",
      "*/\n",
      "\n",
      "\n",
      "CREATE TABLE singer_in_concert (\n",
      "\t\"concert_ID\" INTEGER, \n",
      "\t\"Singer_ID\" TEXT, \n",
      "\tPRIMARY KEY (\"concert_ID\", \"Singer_ID\"), \n",
      "\tFOREIGN KEY(\"concert_ID\") REFERENCES concert (\"concert_ID\"), \n",
      "\tFOREIGN KEY(\"Singer_ID\") REFERENCES singer (\"Singer_ID\")\n",
      ")\n",
      "\n",
      "/*\n",
      "3 rows from singer_in_concert table:\n",
      "concert_ID\tSinger_ID\n",
      "1\t2\n",
      "1\t3\n",
      "1\t5\n",
      "*/\n",
      "\n",
      "\n",
      "CREATE TABLE stadium (\n",
      "\t\"Stadium_ID\" INTEGER, \n",
      "\t\"Location\" TEXT, \n",
      "\t\"Name\" TEXT, \n",
      "\t\"Capacity\" INTEGER, \n",
      "\t\"Highest\" INTEGER, \n",
      "\t\"Lowest\" INTEGER, \n",
      "\t\"Average\" INTEGER, \n",
      "\tPRIMARY KEY (\"Stadium_ID\")\n",
      ")\n",
      "\n",
      "/*\n",
      "3 rows from stadium table:\n",
      "Stadium_ID\tLocation\tName\tCapacity\tHighest\tLowest\tAverage\n",
      "1\tRaith Rovers\tStark's Park\t10104\t4812\t1294\t2106\n",
      "2\tAyr United\tSomerset Park\t11998\t2363\t1057\t1477\n",
      "3\tEast Fife\tBayview Stadium\t2000\t1980\t533\t864\n",
      "*/\n",
      "==================================\u001b[1m Ai Message \u001b[0m==================================\n",
      "Tool Calls:\n",
      "  sql_db_query_checker (call_57wa)\n",
      " Call ID: call_57wa\n",
      "  Args:\n",
      "    query: SELECT COUNT(Singer_ID) FROM singer;\n",
      "=================================\u001b[1m Tool Message \u001b[0m=================================\n",
      "Name: sql_db_query_checker\n",
      "\n",
      "```sql\n",
      "SELECT COUNT(Singer_ID) FROM singer;\n",
      "```\n",
      "==================================\u001b[1m Ai Message \u001b[0m==================================\n",
      "Tool Calls:\n",
      "  sql_db_query (call_qmsy)\n",
      " Call ID: call_qmsy\n",
      "  Args:\n",
      "    query: SELECT COUNT(Singer_ID) FROM singer;\n",
      "=================================\u001b[1m Tool Message \u001b[0m=================================\n",
      "Name: sql_db_query\n",
      "\n",
      "[(6,)]\n",
      "==================================\u001b[1m Ai Message \u001b[0m==================================\n",
      "\n",
      "There are 6 singers.\n"
     ]
    }
   ],
   "source": [
    "events = agent_executor.stream(\n",
    "    {\"messages\": [(\"user\", golden_data_easy[0][\"question\"])]},\n",
    "    stream_mode=\"values\",\n",
    ")\n",
    "for event in events:\n",
    "    event[\"messages\"][-1].pretty_print()"
   ]
  },
  {
   "cell_type": "markdown",
   "id": "cf72028f",
   "metadata": {},
   "source": [
    "## Hard Questions"
   ]
  },
  {
   "cell_type": "code",
   "execution_count": 36,
   "id": "8f88d8f0",
   "metadata": {},
   "outputs": [],
   "source": [
    "import json\n",
    "with open(\"extracted_sql_examples_hard.json\", \"r\") as f:\n",
    "    data = json.load(f)\n",
    "\n",
    "golden_data_hard = [\n",
    "    {\"db_id\": item[\"db_id\"], \"question\": item[\"question\"], \"query\": item[\"gold_sql\"], \"result\": item[\"gold_result\"]}\n",
    "    for item in data\n",
    "]"
   ]
  },
  {
   "cell_type": "code",
   "execution_count": 37,
   "id": "30a621ea",
   "metadata": {},
   "outputs": [
    {
     "data": {
      "text/plain": [
       "{'db_id': 'concert_singer',\n",
       " 'question': 'Show countries where a singer above age 40 and a singer below 30 are from.',\n",
       " 'query': 'select country from singer where age > 40 intersect select country from singer where age < 30',\n",
       " 'result': \"('France',)\"}"
      ]
     },
     "execution_count": 37,
     "metadata": {},
     "output_type": "execute_result"
    }
   ],
   "source": [
    "golden_data_hard[0]"
   ]
  },
  {
   "cell_type": "code",
   "execution_count": 38,
   "id": "5dd63867",
   "metadata": {},
   "outputs": [
    {
     "name": "stderr",
     "output_type": "stream",
     "text": [
      "Generating SQL:   0%|          | 0/15 [00:00<?, ?q/s]"
     ]
    },
    {
     "name": "stdout",
     "output_type": "stream",
     "text": [
      "Show countries where a singer above age 40 and a singer below 30 are from.\n"
     ]
    },
    {
     "name": "stderr",
     "output_type": "stream",
     "text": [
      "Generating SQL:   7%|▋         | 1/15 [00:17<04:08, 17.72s/q]"
     ]
    },
    {
     "name": "stdout",
     "output_type": "stream",
     "text": [
      "✅ Success at index 0\n",
      "{'db_id': 'concert_singer', 'question': 'Show countries where a singer above age 40 and a singer below 30 are from.', 'generated_sql': 'SELECT T1.country FROM singer AS T1 INNER JOIN singer_in_concert AS T2 ON T1.id = T2.singer_id INNER JOIN concert AS T3 ON T2.concert_id = T3.id WHERE T1.age > 40 INTERSECT SELECT T1.country FROM singer AS T1 INNER JOIN singer_in_concert AS T2 ON T1.id = T2.singer_id INNER JOIN concert AS T3 ON T2.concert_id = T3.id WHERE T1.age < 30', 'result': 'Error: (sqlite3.OperationalError) no such column: T1.id\\n[SQL: SELECT T1.country FROM singer AS T1 INNER JOIN singer_in_concert AS T2 ON T1.id = T2.singer_id INNER JOIN concert AS T3 ON T2.concert_id = T3.id WHERE T1.age > 40 INTERSECT SELECT T1.country FROM singer AS T1 INNER JOIN singer_in_concert AS T2 ON T1.id = T2.singer_id INNER JOIN concert AS T3 ON T2.concert_id = T3.id WHERE T1.age < 30]\\n(Background on this error at: https://sqlalche.me/e/20/e3q8)', 'gold_sql': 'select country from singer where age > 40 intersect select country from singer where age < 30', 'gold_result': \"('France',)\"}\n",
      "What are the names and locations of the stadiums that had concerts that occurred in both 2014 and 2015?\n"
     ]
    },
    {
     "name": "stderr",
     "output_type": "stream",
     "text": [
      "Generating SQL:  13%|█▎        | 2/15 [00:40<04:26, 20.47s/q]"
     ]
    },
    {
     "name": "stdout",
     "output_type": "stream",
     "text": [
      "✅ Success at index 1\n",
      "{'db_id': 'concert_singer', 'question': 'What are the names and locations of the stadiums that had concerts that occurred in both 2014 and 2015?', 'generated_sql': 'SELECT T1.name, T1.location FROM stadium AS T1 INNER JOIN concert AS T2 ON T1.id = T2.stadium_id WHERE T2.year = 2014 INTERSECT SELECT T1.name, T1.location FROM stadium AS T1 INNER JOIN concert AS T2 ON T1.id = T2.stadium_id WHERE T2.year = 2015', 'result': 'Error: (sqlite3.OperationalError) no such column: T1.id\\n[SQL: SELECT T1.name, T1.location FROM stadium AS T1 INNER JOIN concert AS T2 ON T1.id = T2.stadium_id WHERE T2.year = 2014 INTERSECT SELECT T1.name, T1.location FROM stadium AS T1 INNER JOIN concert AS T2 ON T1.id = T2.stadium_id WHERE T2.year = 2015]\\n(Background on this error at: https://sqlalche.me/e/20/e3q8)', 'gold_sql': 'select t2.name, t2.location from concert as t1 join stadium as t2 on t1.stadium_id = t2.stadium_id where t1.year = 2014 intersect select t2.name, t2.location from concert as t1 join stadium as t2 on t1.stadium_id = t2.stadium_id where t1.year = 2015', 'gold_result': \"('Somerset Park', 'Ayr United')\"}\n",
      "find the id, name and age for visitors who visited some museums more than once.\n"
     ]
    },
    {
     "name": "stderr",
     "output_type": "stream",
     "text": [
      "Generating SQL:  20%|██        | 3/15 [00:54<03:29, 17.50s/q]"
     ]
    },
    {
     "name": "stdout",
     "output_type": "stream",
     "text": [
      "✅ Success at index 2\n",
      "{'db_id': 'museum_visit', 'question': 'find the id, name and age for visitors who visited some museums more than once.', 'generated_sql': 'SELECT T1.id, T1.name, T1.age FROM visitor AS T1 INNER JOIN visit AS T2 ON T1.id = T2.visitor_id GROUP BY T1.id, T1.name, T1.age HAVING COUNT(T2.museum_id) > 1', 'result': \"('3', 'Arjen Robben', '27'), ('5', 'Fernando Gago', '36'), ('6', 'Rafael van der Vaart', '25')\", 'gold_sql': 'select t1.id, t1.name, t1.age from visitor as t1 join visit as t2 on t1.id = t2.visitor_id group by t1.id having count(*) > 1', 'gold_result': \"('3', 'Arjen Robben', '27'), ('5', 'Fernando Gago', '36'), ('6', 'Rafael van der Vaart', '25')\"}\n",
      "Which states have both owners and professionals living there?\n"
     ]
    },
    {
     "name": "stderr",
     "output_type": "stream",
     "text": [
      "Generating SQL:  27%|██▋       | 4/15 [01:03<02:36, 14.27s/q]"
     ]
    },
    {
     "name": "stdout",
     "output_type": "stream",
     "text": [
      "✅ Success at index 3\n",
      "{'db_id': 'dog_kennels', 'question': 'Which states have both owners and professionals living there?', 'generated_sql': 'SELECT DISTINCT T1.state FROM Owners AS T1 INNER JOIN Professionals AS T2 ON T1.state = T2.state', 'result': \"('Indiana',), ('Mississippi',), ('Wisconsin',)\", 'gold_sql': 'select state from owners intersect select state from professionals', 'gold_result': \"('Indiana',), ('Mississippi',), ('Wisconsin',)\"}\n",
      "Find the states where both owners and professionals live.\n"
     ]
    },
    {
     "name": "stderr",
     "output_type": "stream",
     "text": [
      "Generating SQL:  33%|███▎      | 5/15 [01:16<02:19, 13.96s/q]"
     ]
    },
    {
     "name": "stdout",
     "output_type": "stream",
     "text": [
      "✅ Success at index 4\n",
      "{'db_id': 'dog_kennels', 'question': 'Find the states where both owners and professionals live.', 'generated_sql': 'SELECT DISTINCT T1.state FROM Owners AS T1 INNER JOIN Professionals AS T2 ON T1.state = T2.state', 'result': \"('Indiana',), ('Mississippi',), ('Wisconsin',)\", 'gold_sql': 'select state from owners intersect select state from professionals', 'gold_result': \"('Indiana',), ('Mississippi',), ('Wisconsin',)\"}\n",
      "Which first names are used for professionals or owners but are not used as dog names?\n"
     ]
    },
    {
     "name": "stderr",
     "output_type": "stream",
     "text": [
      "Generating SQL:  40%|████      | 6/15 [01:32<02:11, 14.58s/q]"
     ]
    },
    {
     "name": "stdout",
     "output_type": "stream",
     "text": [
      "✅ Success at index 5\n",
      "{'db_id': 'dog_kennels', 'question': 'Which first names are used for professionals or owners but are not used as dog names?', 'generated_sql': 'SELECT T1.first_name FROM (SELECT first_name FROM Owners UNION ALL SELECT first_name FROM Professionals) AS T1 LEFT JOIN (SELECT name AS first_name FROM Dogs) AS T2 ON T1.first_name = T2.first_name WHERE T2.first_name IS NULL', 'result': \"('Adelle',), ('Brady',), ('Cindy',), ('Danny',), ('Domenica',), ('Emelie',), ('Ericka',), ('Gay',), ('Heather',), ('Jaclyn',), ('Jayson',), ('Johann',), ('Kade',), ('Karley',), ('Lesly',), ('Lorenz',), ('Melisa',), ('Monte',), ('Nora',), ('Olaf',), ('Orlando',), ('Rachelle',), ('Rolando',), ('Ruben',), ('Sigurd',), ('Taryn',), ('Tre',), ('Velva',), ('Vernice',), ('Winfield',)\", 'gold_sql': 'select first_name from professionals union select first_name from owners except select name from dogs', 'gold_result': \"('Adelle',), ('Brady',), ('Cindy',), ('Danny',), ('Domenica',), ('Emelie',), ('Ericka',), ('Gay',), ('Heather',), ('Jaclyn',), ('Jayson',), ('Johann',), ('Kade',), ('Karley',), ('Lesly',), ('Lorenz',), ('Melisa',), ('Monte',), ('Nora',), ('Olaf',), ('Orlando',), ('Rachelle',), ('Rolando',), ('Ruben',), ('Sigurd',), ('Taryn',), ('Tre',), ('Velva',), ('Vernice',), ('Winfield',)\"}\n",
      "Show the citizenship shared by singers with birth year before 1945 and after 1955.\n"
     ]
    },
    {
     "name": "stderr",
     "output_type": "stream",
     "text": [
      "Generating SQL:  47%|████▋     | 7/15 [01:53<02:14, 16.80s/q]"
     ]
    },
    {
     "name": "stdout",
     "output_type": "stream",
     "text": [
      "✅ Success at index 6\n",
      "{'db_id': 'singer', 'question': 'Show the citizenship shared by singers with birth year before 1945 and after 1955.', 'generated_sql': 'SELECT citizenship FROM singer WHERE birth_year < 1945 OR birth_year > 1955', 'result': \"('Chile',), ('France',), ('Germany',), ('United States',), ('United States',)\", 'gold_sql': 'select citizenship from singer where birth_year < 1945 intersect select citizenship from singer where birth_year > 1955', 'gold_result': \"('United States',)\"}\n",
      "What are the citizenships that are shared by singers with a birth year before 1945 and after 1955?\n"
     ]
    },
    {
     "name": "stderr",
     "output_type": "stream",
     "text": [
      "Generating SQL:  53%|█████▎    | 8/15 [02:05<01:46, 15.22s/q]"
     ]
    },
    {
     "name": "stdout",
     "output_type": "stream",
     "text": [
      "✅ Success at index 7\n",
      "{'db_id': 'singer', 'question': 'What are the citizenships that are shared by singers with a birth year before 1945 and after 1955?', 'generated_sql': 'SELECT citizenship FROM singer WHERE birth_year < 1945 INTERSECT SELECT citizenship FROM singer WHERE birth_year > 1955', 'result': \"('United States',)\", 'gold_sql': 'select citizenship from singer where birth_year < 1945 intersect select citizenship from singer where birth_year > 1955', 'gold_result': \"('United States',)\"}\n",
      "Return the nationalities for which there are two or more people.\n"
     ]
    },
    {
     "name": "stderr",
     "output_type": "stream",
     "text": [
      "Generating SQL:  60%|██████    | 9/15 [02:27<01:43, 17.23s/q]"
     ]
    },
    {
     "name": "stdout",
     "output_type": "stream",
     "text": [
      "✅ Success at index 8\n",
      "{'db_id': 'poker_player', 'question': 'Return the nationalities for which there are two or more people.', 'generated_sql': 'SELECT nationality FROM people GROUP BY nationality HAVING COUNT(nationality) >= 2', 'result': \"('Russia',)\", 'gold_sql': 'select nationality from people group by nationality having count(*) >= 2', 'gold_result': \"('Russia',)\"}\n",
      "What are the ids of all tv channels that have more than 2 TV channels?\n"
     ]
    },
    {
     "name": "stderr",
     "output_type": "stream",
     "text": [
      "Generating SQL:  67%|██████▋   | 10/15 [02:53<01:39, 19.91s/q]"
     ]
    },
    {
     "name": "stdout",
     "output_type": "stream",
     "text": [
      "✅ Success at index 9\n",
      "{'db_id': 'tvshow', 'question': 'What are the ids of all tv channels that have more than 2 TV channels?', 'generated_sql': 'SELECT id FROM TV_Channel GROUP BY id HAVING COUNT(id) > 2', 'result': '', 'gold_sql': 'select id from tv_channel group by country having count(*) > 2', 'gold_result': \"('700',)\"}\n",
      "Find the codes of countries that have more than 50 players.\n"
     ]
    },
    {
     "name": "stderr",
     "output_type": "stream",
     "text": [
      "Generating SQL:  73%|███████▎  | 11/15 [03:18<01:25, 21.46s/q]"
     ]
    },
    {
     "name": "stdout",
     "output_type": "stream",
     "text": [
      "✅ Success at index 10\n",
      "{'db_id': 'wta_1', 'question': 'Find the codes of countries that have more than 50 players.', 'generated_sql': 'SELECT country_code FROM players GROUP BY country_code HAVING COUNT(player_id) > 50', 'result': \"('ALG',), ('ARG',), ('AUS',), ('AUT',), ('BEL',), ('BIH',), ('BLR',), ('BOL',), ('BRA',), ('BUL',), ('CAN',), ('CHI',), ('CHN',), ('COL',), ('CRO',), ('CZE',), ('DEN',), ('ECU',), ('EGY',), ('ESP',), ('FIN',), ('FRA',), ('GBR',), ('GEO',), ('GER',), ('GRE',), ('HKG',), ('HUN',), ('INA',), ('IND',), ('IRL',), ('ISR',), ('ITA',), ('JPN',), ('KAZ',), ('KOR',), ('LAT',), ('MAR',), ('MEX',), ('NED',), ('NGR',), ('NOR',), ('NZL',), ('PAR',), ('PER',), ('PHI',), ('POL',), ('POR',), ('ROU',), ('RSA',), ('RUS',), ('SLO',), ('SRB',), ('SUI',), ('SVK',), ('SWE',), ('THA',), ('TPE',), ('TUN',), ('TUR',), ('UKR',), ('URU',), ('USA',), ('UZB',), ('VEN',)\", 'gold_sql': 'select country_code from players group by country_code having count(*) > 50', 'gold_result': \"('ALG',), ('ARG',), ('AUS',), ('AUT',), ('BEL',), ('BIH',), ('BLR',), ('BOL',), ('BRA',), ('BUL',), ('CAN',), ('CHI',), ('CHN',), ('COL',), ('CRO',), ('CZE',), ('DEN',), ('ECU',), ('EGY',), ('ESP',), ('FIN',), ('FRA',), ('GBR',), ('GEO',), ('GER',), ('GRE',), ('HKG',), ('HUN',), ('INA',), ('IND',), ('IRL',), ('ISR',), ('ITA',), ('JPN',), ('KAZ',), ('KOR',), ('LAT',), ('MAR',), ('MEX',), ('NED',), ('NGR',), ('NOR',), ('NZL',), ('PAR',), ('PER',), ('PHI',), ('POL',), ('POR',), ('ROU',), ('RSA',), ('RUS',), ('SLO',), ('SRB',), ('SUI',), ('SVK',), ('SWE',), ('THA',), ('TPE',), ('TUN',), ('TUR',), ('UKR',), ('URU',), ('USA',), ('UZB',), ('VEN',)\"}\n",
      "What are the codes of countries with more than 50 players?\n"
     ]
    },
    {
     "name": "stderr",
     "output_type": "stream",
     "text": [
      "Generating SQL:  80%|████████  | 12/15 [03:33<00:58, 19.46s/q]"
     ]
    },
    {
     "name": "stdout",
     "output_type": "stream",
     "text": [
      "✅ Success at index 11\n",
      "{'db_id': 'wta_1', 'question': 'What are the codes of countries with more than 50 players?', 'generated_sql': 'SELECT country_code FROM players GROUP BY country_code HAVING COUNT(player_id) > 50', 'result': \"('ALG',), ('ARG',), ('AUS',), ('AUT',), ('BEL',), ('BIH',), ('BLR',), ('BOL',), ('BRA',), ('BUL',), ('CAN',), ('CHI',), ('CHN',), ('COL',), ('CRO',), ('CZE',), ('DEN',), ('ECU',), ('EGY',), ('ESP',), ('FIN',), ('FRA',), ('GBR',), ('GEO',), ('GER',), ('GRE',), ('HKG',), ('HUN',), ('INA',), ('IND',), ('IRL',), ('ISR',), ('ITA',), ('JPN',), ('KAZ',), ('KOR',), ('LAT',), ('MAR',), ('MEX',), ('NED',), ('NGR',), ('NOR',), ('NZL',), ('PAR',), ('PER',), ('PHI',), ('POL',), ('POR',), ('ROU',), ('RSA',), ('RUS',), ('SLO',), ('SRB',), ('SUI',), ('SVK',), ('SWE',), ('THA',), ('TPE',), ('TUN',), ('TUR',), ('UKR',), ('URU',), ('USA',), ('UZB',), ('VEN',)\", 'gold_sql': 'select country_code from players group by country_code having count(*) > 50', 'gold_result': \"('ALG',), ('ARG',), ('AUS',), ('AUT',), ('BEL',), ('BIH',), ('BLR',), ('BOL',), ('BRA',), ('BUL',), ('CAN',), ('CHI',), ('CHN',), ('COL',), ('CRO',), ('CZE',), ('DEN',), ('ECU',), ('EGY',), ('ESP',), ('FIN',), ('FRA',), ('GBR',), ('GEO',), ('GER',), ('GRE',), ('HKG',), ('HUN',), ('INA',), ('IND',), ('IRL',), ('ISR',), ('ITA',), ('JPN',), ('KAZ',), ('KOR',), ('LAT',), ('MAR',), ('MEX',), ('NED',), ('NGR',), ('NOR',), ('NZL',), ('PAR',), ('PER',), ('PHI',), ('POL',), ('POR',), ('ROU',), ('RSA',), ('RUS',), ('SLO',), ('SRB',), ('SUI',), ('SVK',), ('SWE',), ('THA',), ('TPE',), ('TUN',), ('TUR',), ('UKR',), ('URU',), ('USA',), ('UZB',), ('VEN',)\"}\n",
      "Show the hometowns shared by at least two teachers.\n"
     ]
    },
    {
     "name": "stderr",
     "output_type": "stream",
     "text": [
      "Generating SQL:  87%|████████▋ | 13/15 [03:42<00:32, 16.43s/q]"
     ]
    },
    {
     "name": "stdout",
     "output_type": "stream",
     "text": [
      "✅ Success at index 12\n",
      "{'db_id': 'course_teach', 'question': 'Show the hometowns shared by at least two teachers.', 'generated_sql': 'SELECT hometown FROM teacher GROUP BY hometown HAVING COUNT(hometown) > 1', 'result': '', 'gold_sql': 'select hometown from teacher group by hometown having count(*) >= 2', 'gold_result': ''}\n",
      "Which cities do more than one employee under age 30 come from?\n"
     ]
    },
    {
     "name": "stderr",
     "output_type": "stream",
     "text": [
      "Generating SQL:  93%|█████████▎| 14/15 [04:02<00:17, 17.44s/q]"
     ]
    },
    {
     "name": "stdout",
     "output_type": "stream",
     "text": [
      "✅ Success at index 13\n",
      "{'db_id': 'employee_hire_evaluation', 'question': 'Which cities do more than one employee under age 30 come from?', 'generated_sql': 'SELECT city FROM employee WHERE age < 30 GROUP BY city HAVING COUNT(*) > 1', 'result': \"('Bath',)\", 'gold_sql': 'select city from employee where age < 30 group by city having count(*) > 1', 'gold_result': \"('Bath',)\"}\n",
      "Find the cities that have more than one employee under age 30.\n"
     ]
    },
    {
     "name": "stderr",
     "output_type": "stream",
     "text": [
      "Generating SQL: 100%|██████████| 15/15 [04:22<00:00, 17.48s/q]"
     ]
    },
    {
     "name": "stdout",
     "output_type": "stream",
     "text": [
      "✅ Success at index 14\n",
      "{'db_id': 'employee_hire_evaluation', 'question': 'Find the cities that have more than one employee under age 30.', 'generated_sql': 'SELECT T1.city FROM shop AS T1 INNER JOIN employee AS T2 ON T1.id = T2.shop_id WHERE T2.age < 30 GROUP BY T1.city HAVING COUNT(T2.id) > 1', 'result': 'Error: (sqlite3.OperationalError) no such column: T1.city\\n[SQL: SELECT T1.city FROM shop AS T1 INNER JOIN employee AS T2 ON T1.id = T2.shop_id WHERE T2.age < 30 GROUP BY T1.city HAVING COUNT(T2.id) > 1]\\n(Background on this error at: https://sqlalche.me/e/20/e3q8)', 'gold_sql': 'select city from employee where age < 30 group by city having count(*) > 1', 'gold_result': \"('Bath',)\"}\n"
     ]
    },
    {
     "name": "stderr",
     "output_type": "stream",
     "text": [
      "\n"
     ]
    }
   ],
   "source": [
    "import json\n",
    "import os\n",
    "from tqdm import tqdm\n",
    "from langchain_community.utilities import SQLDatabase\n",
    "from langchain_community.agent_toolkits import SQLDatabaseToolkit\n",
    "from langgraph.prebuilt import create_react_agent\n",
    "\n",
    "save_path = \"hard_answers.json\"\n",
    "\n",
    "# Load previous progress if available\n",
    "if os.path.exists(save_path):\n",
    "    with open(save_path, \"r\") as f:\n",
    "        hard_answers = json.load(f)\n",
    "else:\n",
    "    hard_answers = []\n",
    "\n",
    "start_index = len(hard_answers)\n",
    "\n",
    "# Wrap tqdm around the remaining examples\n",
    "for i in tqdm(range(start_index, len(golden_data_hard)), desc=\"Generating SQL\", unit=\"q\"):\n",
    "    item = golden_data_hard[i]\n",
    "    try:\n",
    "        print(item[\"question\"])\n",
    "\n",
    "        # Setup DB first (important: get tables *after* db is loaded)\n",
    "        db = SQLDatabase.from_uri(f\"sqlite:////Users/onurcanmemis/Downloads/spider_data/database/{item['db_id']}/{item['db_id']}.sqlite\")\n",
    "        table_names = db.get_usable_table_names()\n",
    "\n",
    "        system_message = \"\"\"\n",
    "        You are an agent designed to interact with a SQL database.\n",
    "        Given an input question, create a syntactically correct {dialect} query to run,\n",
    "        then look at the results of the query and return the answer.\n",
    "        You can order the results by a relevant column to return the most interesting\n",
    "        examples in the database. Never query for all the columns from a specific table,\n",
    "        only ask for the relevant columns given the question.\n",
    "\n",
    "        You MUST double check your query before executing it. If you get an error while\n",
    "        executing a query, rewrite the query and try again.\n",
    "\n",
    "        DO NOT make any DML statements (INSERT, UPDATE, DELETE, DROP etc.) to the\n",
    "        database.\n",
    "\n",
    "        The tables in the database is given as {table_names}. To start you should ALWAYS look at the \n",
    "        tables and their columns in the database to see what you can query. Do NOT skip this step.\n",
    "\n",
    "        Then you should query the schema of the most relevant tables.\n",
    "        \"\"\".format(\n",
    "            dialect=\"SQLite\",\n",
    "            table_names=\", \".join(table_names)\n",
    "        )\n",
    "\n",
    "        toolkit = SQLDatabaseToolkit(db=db, llm=llm)\n",
    "        tools = toolkit.get_tools()\n",
    "        agent_executor = create_react_agent(llm, tools, prompt=system_message)\n",
    "\n",
    "        answer = agent_executor.invoke(\n",
    "            {\"messages\": [{\"role\": \"user\", \"content\": item[\"question\"]}]},\n",
    "            config={\"recursion_limit\": 10}\n",
    "        )\n",
    "\n",
    "        generated_query = extract_sql_and_result_from_agent_output(answer)[\"generated_sql\"]\n",
    "        generated_result = extract_sql_and_result_from_agent_output(answer)[\"generated_result\"]\n",
    "\n",
    "        hard_answers.append({\n",
    "            \"db_id\": item[\"db_id\"],\n",
    "            \"question\": item[\"question\"],\n",
    "            \"generated_sql\": generated_query or \"\",\n",
    "            \"result\": generated_result or \"\",\n",
    "            \"gold_sql\": item[\"query\"],\n",
    "            \"gold_result\": item[\"result\"]\n",
    "        })\n",
    "\n",
    "        print(f\"✅ Success at index {i}\")\n",
    "        print(hard_answers[i])\n",
    "\n",
    "        with open(save_path, \"w\") as f:\n",
    "            json.dump(hard_answers, f, indent=2)\n",
    "\n",
    "    except Exception as e:\n",
    "        error_msg = str(e)\n",
    "        if \"GRAPH_RECURSION_LIMIT\" in error_msg or \"Recursion limit\" in error_msg:\n",
    "            print(f\"⚠️ Recursion limit hit at index {i}. Skipping.\")\n",
    "            hard_answers.append({\n",
    "                \"db_id\": item[\"db_id\"],\n",
    "                \"question\": item[\"question\"],\n",
    "                \"generated_sql\": \"\",\n",
    "                \"result\": \"\",\n",
    "                \"gold_sql\": item[\"query\"]\n",
    "            })\n",
    "            print(hard_answers)\n",
    "        elif \"tool_use_failed\" in error_msg or \"table\" in error_msg.lower():\n",
    "            print(f\"⚠️ Tool failure or table issue at index {i}. Skipping.\")\n",
    "            break\n",
    "        else:\n",
    "            print(f\"❌ Error at index {i}: {e}\")\n",
    "            break\n",
    "\n",
    "        with open(save_path, \"w\") as f:\n",
    "            json.dump(hard_answers, f, indent=2)"
   ]
  },
  {
   "cell_type": "markdown",
   "id": "13f8d453",
   "metadata": {},
   "source": [
    "## Medium Questions"
   ]
  },
  {
   "cell_type": "code",
   "execution_count": 44,
   "id": "3b60922c",
   "metadata": {},
   "outputs": [],
   "source": [
    "import json\n",
    "with open(\"extracted_sql_examples_medium.json\", \"r\") as f:\n",
    "    data = json.load(f)\n",
    "\n",
    "golden_data_medium = [\n",
    "    {\"db_id\": item[\"db_id\"], \"question\": item[\"question\"], \"query\": item[\"gold_sql\"], \"result\": item[\"gold_result\"]}\n",
    "    for item in data\n",
    "]"
   ]
  },
  {
   "cell_type": "code",
   "execution_count": 45,
   "id": "17daab91",
   "metadata": {},
   "outputs": [
    {
     "data": {
      "text/plain": [
       "{'db_id': 'concert_singer',\n",
       " 'question': 'What are all distinct countries where singers above age 20 are from?',\n",
       " 'query': 'select distinct country from singer where age > 20',\n",
       " 'result': \"('Netherlands',), ('France',), ('United States',)\"}"
      ]
     },
     "execution_count": 45,
     "metadata": {},
     "output_type": "execute_result"
    }
   ],
   "source": [
    "golden_data_medium[0]"
   ]
  },
  {
   "cell_type": "code",
   "execution_count": 52,
   "id": "bbe7f6a8",
   "metadata": {},
   "outputs": [
    {
     "name": "stderr",
     "output_type": "stream",
     "text": [
      "Generating SQL:   0%|          | 0/22 [00:00<?, ?q/s]"
     ]
    },
    {
     "name": "stdout",
     "output_type": "stream",
     "text": [
      "What are  the different countries with singers above age 20?\n"
     ]
    },
    {
     "name": "stderr",
     "output_type": "stream",
     "text": [
      "Generating SQL:   5%|▍         | 1/22 [00:06<02:25,  6.92s/q]"
     ]
    },
    {
     "name": "stdout",
     "output_type": "stream",
     "text": [
      "✅ Success at index 1\n",
      "{'db_id': 'concert_singer', 'question': 'What are  the different countries with singers above age 20?', 'generated_sql': 'SELECT DISTINCT country FROM singer WHERE age > 20', 'result': \"('France',), ('Netherlands',), ('United States',)\", 'gold_sql': 'select distinct country from singer where age > 20', 'gold_result': \"('Netherlands',), ('France',), ('United States',)\"}\n",
      "Return the owner id, first name and last name of the owner who has the most dogs.\n"
     ]
    },
    {
     "name": "stderr",
     "output_type": "stream",
     "text": [
      "Generating SQL:   9%|▉         | 2/22 [00:27<04:54, 14.72s/q]"
     ]
    },
    {
     "name": "stdout",
     "output_type": "stream",
     "text": [
      "✅ Success at index 2\n",
      "{'db_id': 'dog_kennels', 'question': 'Return the owner id, first name and last name of the owner who has the most dogs.', 'generated_sql': 'SELECT T1.owner_id, T1.first_name, T1.last_name FROM Owners AS T1 INNER JOIN Dogs AS T2 ON T1.owner_id = T2.owner_id GROUP BY T1.owner_id ORDER BY COUNT(T2.dog_id) DESC LIMIT 1', 'result': \"('14', 'Rachelle', 'Funk')\", 'gold_sql': 'select t1.owner_id, t2.first_name, t2.last_name from dogs as t1 join owners as t2 on t1.owner_id = t2.owner_id group by t1.owner_id order by count(*) desc limit 1', 'gold_result': \"('14', 'Rachelle', 'Funk')\"}\n",
      "What is the name of the breed with the most dogs?\n"
     ]
    },
    {
     "name": "stderr",
     "output_type": "stream",
     "text": [
      "Generating SQL:  14%|█▎        | 3/22 [00:43<04:53, 15.45s/q]"
     ]
    },
    {
     "name": "stdout",
     "output_type": "stream",
     "text": [
      "✅ Success at index 3\n",
      "{'db_id': 'dog_kennels', 'question': 'What is the name of the breed with the most dogs?', 'generated_sql': 'SELECT T1.Breed_Name FROM Breeds AS T1 INNER JOIN Dogs AS T2 ON T1.Breed_ID = T2.Breed_ID GROUP BY T1.Breed_Name ORDER BY COUNT(T2.Dog_ID) DESC LIMIT 1', 'result': 'Error: (sqlite3.OperationalError) no such column: T1.Breed_ID\\n[SQL: SELECT T1.Breed_Name FROM Breeds AS T1 INNER JOIN Dogs AS T2 ON T1.Breed_ID = T2.Breed_ID GROUP BY T1.Breed_Name ORDER BY COUNT(T2.Dog_ID) DESC LIMIT 1]\\n(Background on this error at: https://sqlalche.me/e/20/e3q8)', 'gold_sql': 'select t1.breed_name from breeds as t1 join dogs as t2 on t1.breed_code = t2.breed_code group by t1.breed_name order by count(*) desc limit 1', 'gold_result': \"('Bulldog',)\"}\n",
      "Show the name of singers whose birth year is either 1948 or 1949?\n"
     ]
    },
    {
     "name": "stderr",
     "output_type": "stream",
     "text": [
      "Generating SQL:  18%|█▊        | 4/22 [00:55<04:10, 13.94s/q]"
     ]
    },
    {
     "name": "stdout",
     "output_type": "stream",
     "text": [
      "✅ Success at index 4\n",
      "{'db_id': 'singer', 'question': 'Show the name of singers whose birth year is either 1948 or 1949?', 'generated_sql': 'SELECT name FROM singer WHERE birth_year = 1948 OR birth_year = 1949', 'result': \"('Alice Walton',), ('Christy Walton',)\", 'gold_sql': 'select name from singer where birth_year = 1948 or birth_year = 1949', 'gold_result': \"('Alice Walton',), ('Christy Walton',)\"}\n",
      "What are the names of the singers whose birth years are either 1948 or 1949?\n"
     ]
    },
    {
     "name": "stderr",
     "output_type": "stream",
     "text": [
      "Generating SQL:  23%|██▎       | 5/22 [01:09<03:59, 14.08s/q]"
     ]
    },
    {
     "name": "stdout",
     "output_type": "stream",
     "text": [
      "✅ Success at index 5\n",
      "{'db_id': 'singer', 'question': 'What are the names of the singers whose birth years are either 1948 or 1949?', 'generated_sql': 'SELECT name FROM singer WHERE birth_year = 1948 OR birth_year = 1949', 'result': \"('Alice Walton',), ('Christy Walton',)\", 'gold_sql': 'select name from singer where birth_year = 1948 or birth_year = 1949', 'gold_result': \"('Alice Walton',), ('Christy Walton',)\"}\n",
      "Show different citizenship of singers and the number of singers of each citizenship.\n"
     ]
    },
    {
     "name": "stderr",
     "output_type": "stream",
     "text": [
      "Generating SQL:  27%|██▋       | 6/22 [01:27<04:10, 15.63s/q]"
     ]
    },
    {
     "name": "stdout",
     "output_type": "stream",
     "text": [
      "✅ Success at index 6\n",
      "{'db_id': 'singer', 'question': 'Show different citizenship of singers and the number of singers of each citizenship.', 'generated_sql': 'SELECT citizenship, COUNT(*) FROM singer GROUP BY citizenship', 'result': \"('Australia', '1'), ('Chile', '1'), ('France', '1'), ('Germany', '1'), ('United States', '4')\", 'gold_sql': 'select citizenship, count(*) from singer group by citizenship', 'gold_result': \"('Germany', '1'), ('Australia', '1'), ('Chile', '1'), ('France', '1'), ('United States', '4')\"}\n",
      "Please show the most common citizenship of singers.\n"
     ]
    },
    {
     "name": "stderr",
     "output_type": "stream",
     "text": [
      "Generating SQL:  32%|███▏      | 7/22 [01:34<03:11, 12.75s/q]"
     ]
    },
    {
     "name": "stdout",
     "output_type": "stream",
     "text": [
      "✅ Success at index 7\n",
      "{'db_id': 'singer', 'question': 'Please show the most common citizenship of singers.', 'generated_sql': 'SELECT citizenship, COUNT(*) as count FROM singer GROUP BY citizenship ORDER BY count DESC LIMIT 1', 'result': \"('United States', '4')\", 'gold_sql': 'select citizenship from singer group by citizenship order by count(*) desc limit 1', 'gold_result': \"('United States',)\"}\n",
      "What is the most common singer citizenship ?\n"
     ]
    },
    {
     "name": "stderr",
     "output_type": "stream",
     "text": [
      "Generating SQL:  36%|███▋      | 8/22 [01:56<03:37, 15.55s/q]"
     ]
    },
    {
     "name": "stdout",
     "output_type": "stream",
     "text": [
      "✅ Success at index 8\n",
      "{'db_id': 'singer', 'question': 'What is the most common singer citizenship ?', 'generated_sql': 'SELECT citizenship FROM singer GROUP BY citizenship ORDER BY COUNT(*) DESC LIMIT 1', 'result': \"('United States',)\", 'gold_sql': 'select citizenship from singer group by citizenship order by count(*) desc limit 1', 'gold_result': \"('United States',)\"}\n",
      "What is the money rank of the poker player with the highest earnings?\n"
     ]
    },
    {
     "name": "stderr",
     "output_type": "stream",
     "text": [
      "Generating SQL:  41%|████      | 9/22 [02:11<03:19, 15.32s/q]"
     ]
    },
    {
     "name": "stdout",
     "output_type": "stream",
     "text": [
      "✅ Success at index 9\n",
      "{'db_id': 'poker_player', 'question': 'What is the money rank of the poker player with the highest earnings?', 'generated_sql': 'SELECT money_rank FROM poker_player ORDER BY earnings DESC LIMIT 1', 'result': \"('58.0',)\", 'gold_sql': 'select money_rank from poker_player order by earnings desc limit 1', 'gold_result': \"('58.0',)\"}\n",
      "find the number of distinct country codes of all players.\n"
     ]
    },
    {
     "name": "stderr",
     "output_type": "stream",
     "text": [
      "Generating SQL:  45%|████▌     | 10/22 [02:23<02:51, 14.26s/q]"
     ]
    },
    {
     "name": "stdout",
     "output_type": "stream",
     "text": [
      "✅ Success at index 10\n",
      "{'db_id': 'wta_1', 'question': 'find the number of distinct country codes of all players.', 'generated_sql': 'SELECT COUNT(DISTINCT country_code) FROM players', 'result': \"('153',)\", 'gold_sql': 'select count(distinct country_code) from players', 'gold_result': \"('153',)\"}\n",
      "How many different loser names are there?\n"
     ]
    },
    {
     "name": "stderr",
     "output_type": "stream",
     "text": [
      "Generating SQL:  50%|█████     | 11/22 [02:35<02:30, 13.66s/q]"
     ]
    },
    {
     "name": "stdout",
     "output_type": "stream",
     "text": [
      "✅ Success at index 11\n",
      "{'db_id': 'wta_1', 'question': 'How many different loser names are there?', 'generated_sql': 'SELECT COUNT(DISTINCT loser_name) FROM matches', 'result': \"('49',)\", 'gold_sql': 'select count(distinct loser_name) from matches', 'gold_result': \"('49',)\"}\n",
      "List the number of all matches who played in years of 2013 or 2016.\n"
     ]
    },
    {
     "name": "stderr",
     "output_type": "stream",
     "text": [
      "Generating SQL:  55%|█████▍    | 12/22 [02:58<02:45, 16.56s/q]"
     ]
    },
    {
     "name": "stdout",
     "output_type": "stream",
     "text": [
      "✅ Success at index 12\n",
      "{'db_id': 'wta_1', 'question': 'List the number of all matches who played in years of 2013 or 2016.', 'generated_sql': 'SELECT COUNT(*) FROM matches WHERE year = 2013 OR year = 2016', 'result': \"('170',)\", 'gold_sql': 'select count(*) from matches where year = 2013 or year = 2016', 'gold_result': \"('170',)\"}\n",
      "find the code of the country where has the greatest number of players.\n"
     ]
    },
    {
     "name": "stderr",
     "output_type": "stream",
     "text": [
      "Generating SQL:  59%|█████▉    | 13/22 [03:15<02:29, 16.62s/q]"
     ]
    },
    {
     "name": "stdout",
     "output_type": "stream",
     "text": [
      "✅ Success at index 13\n",
      "{'db_id': 'wta_1', 'question': 'find the code of the country where has the greatest number of players.', 'generated_sql': 'SELECT country_code FROM players GROUP BY country_code ORDER BY COUNT(*) DESC LIMIT 1', 'result': \"('USA',)\", 'gold_sql': 'select country_code from players group by country_code order by count(*) desc limit 1', 'gold_result': \"('USA',)\"}\n",
      "What is the code of the country with the most players?\n"
     ]
    },
    {
     "name": "stderr",
     "output_type": "stream",
     "text": [
      "Generating SQL:  64%|██████▎   | 14/22 [03:28<02:05, 15.71s/q]"
     ]
    },
    {
     "name": "stdout",
     "output_type": "stream",
     "text": [
      "✅ Success at index 14\n",
      "{'db_id': 'wta_1', 'question': 'What is the code of the country with the most players?', 'generated_sql': 'SELECT country_code FROM players GROUP BY country_code ORDER BY COUNT(*) DESC LIMIT 1', 'result': \"('USA',)\", 'gold_sql': 'select country_code from players group by country_code order by count(*) desc limit 1', 'gold_result': \"('USA',)\"}\n",
      "What is the first name, country code, and birth date of the player with the most winner rank points across all matches?\n"
     ]
    },
    {
     "name": "stderr",
     "output_type": "stream",
     "text": [
      "Generating SQL:  68%|██████▊   | 15/22 [03:47<01:55, 16.48s/q]"
     ]
    },
    {
     "name": "stdout",
     "output_type": "stream",
     "text": [
      "✅ Success at index 15\n",
      "{'db_id': 'wta_1', 'question': 'What is the first name, country code, and birth date of the player with the most winner rank points across all matches?', 'generated_sql': 'SELECT T1.first_name, T1.country_code, T1.birth_date FROM players AS T1 INNER JOIN rankings AS T2 ON T1.player_id = T2.player_id ORDER BY T2.winner_rank_points DESC LIMIT 1', 'result': 'Error: (sqlite3.OperationalError) no such column: T2.winner_rank_points\\n[SQL: SELECT T1.first_name, T1.country_code, T1.birth_date FROM players AS T1 INNER JOIN rankings AS T2 ON T1.player_id = T2.player_id ORDER BY T2.winner_rank_points DESC LIMIT 1]\\n(Background on this error at: https://sqlalche.me/e/20/e3q8)', 'gold_sql': 'select t1.first_name, t1.country_code, t1.birth_date from players as t1 join matches as t2 on t1.player_id = t2.winner_id order by t2.winner_rank_points desc limit 1', 'gold_result': \"('Serena', 'USA', '19810926')\"}\n",
      "Show the name of teachers aged either 32 or 33?\n"
     ]
    },
    {
     "name": "stderr",
     "output_type": "stream",
     "text": [
      "Generating SQL:  73%|███████▎  | 16/22 [04:02<01:37, 16.28s/q]"
     ]
    },
    {
     "name": "stdout",
     "output_type": "stream",
     "text": [
      "✅ Success at index 16\n",
      "{'db_id': 'course_teach', 'question': 'Show the name of teachers aged either 32 or 33?', 'generated_sql': 'SELECT name FROM teacher WHERE age = 32 OR age = 33', 'result': \"('John Deloor',), ('Joseph Huts',)\", 'gold_sql': 'select name from teacher where age = 32 or age = 33', 'gold_result': \"('Joseph Huts',), ('John Deloor',)\"}\n",
      "What are the names of the teachers who are aged either 32 or 33?\n"
     ]
    },
    {
     "name": "stderr",
     "output_type": "stream",
     "text": [
      "Generating SQL:  77%|███████▋  | 17/22 [04:16<01:16, 15.35s/q]"
     ]
    },
    {
     "name": "stdout",
     "output_type": "stream",
     "text": [
      "✅ Success at index 17\n",
      "{'db_id': 'course_teach', 'question': 'What are the names of the teachers who are aged either 32 or 33?', 'generated_sql': 'SELECT name FROM teacher WHERE age = 32 OR age = 33', 'result': \"('John Deloor',), ('Joseph Huts',)\", 'gold_sql': 'select name from teacher where age = 32 or age = 33', 'gold_result': \"('Joseph Huts',), ('John Deloor',)\"}\n",
      "What is the hometown of the youngest teacher?\n"
     ]
    },
    {
     "name": "stderr",
     "output_type": "stream",
     "text": [
      "Generating SQL:  82%|████████▏ | 18/22 [04:35<01:05, 16.49s/q]"
     ]
    },
    {
     "name": "stdout",
     "output_type": "stream",
     "text": [
      "✅ Success at index 18\n",
      "{'db_id': 'course_teach', 'question': 'What is the hometown of the youngest teacher?', 'generated_sql': 'SELECT hometown FROM teacher ORDER BY age ASC LIMIT 1', 'result': \"('Farnworth Municipal Borough',)\", 'gold_sql': 'select hometown from teacher order by age asc limit 1', 'gold_result': \"('Farnworth Municipal Borough',)\"}\n",
      "Show different hometown of teachers and the number of teachers from each hometown.\n"
     ]
    },
    {
     "name": "stderr",
     "output_type": "stream",
     "text": [
      "Generating SQL:  86%|████████▋ | 19/22 [04:44<00:42, 14.30s/q]"
     ]
    },
    {
     "name": "stdout",
     "output_type": "stream",
     "text": [
      "✅ Success at index 19\n",
      "{'db_id': 'course_teach', 'question': 'Show different hometown of teachers and the number of teachers from each hometown.', 'generated_sql': 'SELECT hometown, COUNT(*) FROM teacher GROUP BY hometown', 'result': \"('Blackrod Urban District', '1'), ('Bolton County Borough', '1'), ('Farnworth Municipal Borough', '1'), ('Horwich Urban District', '1'), ('Kearsley Urban District', '1'), ('Little Lever Urban District', '1'), ('Turton Urban District', '1')\", 'gold_sql': 'select hometown, count(*) from teacher group by hometown', 'gold_result': \"('Farnworth Municipal Borough', '1'), ('Horwich Urban District', '1'), ('Kearsley Urban District', '1'), ('Little Lever Urban District', '1'), ('Bolton County Borough', '1'), ('Blackrod Urban District', '1'), ('Turton Urban District', '1')\"}\n",
      "For each hometown, how many teachers are there?\n"
     ]
    },
    {
     "name": "stderr",
     "output_type": "stream",
     "text": [
      "Generating SQL:  91%|█████████ | 20/22 [05:01<00:30, 15.24s/q]"
     ]
    },
    {
     "name": "stdout",
     "output_type": "stream",
     "text": [
      "✅ Success at index 20\n",
      "{'db_id': 'course_teach', 'question': 'For each hometown, how many teachers are there?', 'generated_sql': 'SELECT hometown, COUNT(*) FROM teacher GROUP BY hometown', 'result': \"('Blackrod Urban District', '1'), ('Bolton County Borough', '1'), ('Farnworth Municipal Borough', '1'), ('Horwich Urban District', '1'), ('Kearsley Urban District', '1'), ('Little Lever Urban District', '1'), ('Turton Urban District', '1')\", 'gold_sql': 'select hometown, count(*) from teacher group by hometown', 'gold_result': \"('Farnworth Municipal Borough', '1'), ('Horwich Urban District', '1'), ('Kearsley Urban District', '1'), ('Little Lever Urban District', '1'), ('Bolton County Borough', '1'), ('Blackrod Urban District', '1'), ('Turton Urban District', '1')\"}\n",
      "List the most common hometown of teachers.\n"
     ]
    },
    {
     "name": "stderr",
     "output_type": "stream",
     "text": [
      "Generating SQL:  95%|█████████▌| 21/22 [05:05<00:11, 11.83s/q]"
     ]
    },
    {
     "name": "stdout",
     "output_type": "stream",
     "text": [
      "✅ Success at index 21\n",
      "{'db_id': 'course_teach', 'question': 'List the most common hometown of teachers.', 'generated_sql': 'SELECT hometown, COUNT(*) as count FROM teacher GROUP BY hometown ORDER BY count DESC LIMIT 1', 'result': \"('Turton Urban District', '1')\", 'gold_sql': 'select hometown from teacher group by hometown order by count(*) desc limit 1', 'gold_result': \"('Turton Urban District',)\"}\n",
      "What is the most commmon hometowns for teachers?\n"
     ]
    },
    {
     "name": "stderr",
     "output_type": "stream",
     "text": [
      "Generating SQL: 100%|██████████| 22/22 [05:27<00:00, 14.87s/q]"
     ]
    },
    {
     "name": "stdout",
     "output_type": "stream",
     "text": [
      "✅ Success at index 22\n",
      "{'db_id': 'course_teach', 'question': 'What is the most commmon hometowns for teachers?', 'generated_sql': 'SELECT hometown, COUNT(*) as count FROM teacher GROUP BY hometown ORDER BY count DESC LIMIT 10', 'result': \"('Blackrod Urban District', '1'), ('Bolton County Borough', '1'), ('Farnworth Municipal Borough', '1'), ('Horwich Urban District', '1'), ('Kearsley Urban District', '1'), ('Little Lever Urban District', '1'), ('Turton Urban District', '1')\", 'gold_sql': 'select hometown from teacher group by hometown order by count(*) desc limit 1', 'gold_result': \"('Turton Urban District',)\"}\n"
     ]
    },
    {
     "name": "stderr",
     "output_type": "stream",
     "text": [
      "\n"
     ]
    }
   ],
   "source": [
    "import json\n",
    "import os\n",
    "from tqdm import tqdm\n",
    "from langchain_community.utilities import SQLDatabase\n",
    "from langchain_community.agent_toolkits import SQLDatabaseToolkit\n",
    "from langgraph.prebuilt import create_react_agent\n",
    "\n",
    "save_path = \"medium_answers.json\"\n",
    "\n",
    "# Load previous progress if available\n",
    "if os.path.exists(save_path):\n",
    "    with open(save_path, \"r\") as f:\n",
    "        medium_answers = json.load(f)\n",
    "else:\n",
    "    medium_answers = []\n",
    "\n",
    "start_index = len(medium_answers)\n",
    "\n",
    "# Wrap tqdm around the remaining examples\n",
    "for i in tqdm(range(start_index, len(golden_data_medium)), desc=\"Generating SQL\", unit=\"q\"):\n",
    "    item = golden_data_medium[i]\n",
    "    try:\n",
    "        print(item[\"question\"])\n",
    "\n",
    "        # Setup DB first (important: get tables *after* db is loaded)\n",
    "        db = SQLDatabase.from_uri(f\"sqlite:////Users/onurcanmemis/Downloads/spider_data/database/{item['db_id']}/{item['db_id']}.sqlite\")\n",
    "        table_names = db.get_usable_table_names()\n",
    "\n",
    "        system_message = \"\"\"\n",
    "        You are an agent designed to interact with a SQL database.\n",
    "        Given an input question, create a syntactically correct {dialect} query to run,\n",
    "        then look at the results of the query and return the answer.\n",
    "        You can order the results by a relevant column to return the most interesting\n",
    "        examples in the database. Never query for all the columns from a specific table,\n",
    "        only ask for the relevant columns given the question.\n",
    "\n",
    "        You MUST double check your query before executing it. If you get an error while\n",
    "        executing a query, rewrite the query and try again.\n",
    "\n",
    "        DO NOT make any DML statements (INSERT, UPDATE, DELETE, DROP etc.) to the\n",
    "        database.\n",
    "\n",
    "        The tables in the database is given as {table_names}. To start you should ALWAYS look at the tables and their columns in the database to see what you\n",
    "        can query. Do NOT skip this step.\n",
    "\n",
    "        Then you should query the schema of the most relevant tables.\n",
    "        \"\"\".format(\n",
    "            dialect=\"SQLite\",\n",
    "            table_names=\", \".join(table_names)\n",
    "        )\n",
    "\n",
    "        toolkit = SQLDatabaseToolkit(db=db, llm=llm)\n",
    "        tools = toolkit.get_tools()\n",
    "        agent_executor = create_react_agent(llm, tools, prompt=system_message)\n",
    "\n",
    "        answer = agent_executor.invoke(\n",
    "            {\"messages\": [{\"role\": \"user\", \"content\": item[\"question\"]}]},\n",
    "            config={\"recursion_limit\": 10}\n",
    "        )\n",
    "\n",
    "        generated_query = extract_sql_and_result_from_agent_output(answer)[\"generated_sql\"]\n",
    "        generated_result = extract_sql_and_result_from_agent_output(answer)[\"generated_result\"]\n",
    "\n",
    "        medium_answers.append({\n",
    "            \"db_id\": item[\"db_id\"],\n",
    "            \"question\": item[\"question\"],\n",
    "            \"generated_sql\": generated_query or \"\",\n",
    "            \"result\": generated_result or \"\",\n",
    "            \"gold_sql\": item[\"query\"],\n",
    "            \"gold_result\": item[\"result\"]\n",
    "        })\n",
    "\n",
    "        print(f\"✅ Success at index {i}\")\n",
    "        print(medium_answers[i])\n",
    "\n",
    "        with open(save_path, \"w\") as f:\n",
    "            json.dump(medium_answers, f, indent=2)\n",
    "\n",
    "    except Exception as e:\n",
    "        error_msg = str(e)\n",
    "        if \"GRAPH_RECURSION_LIMIT\" in error_msg or \"Recursion limit\" in error_msg:\n",
    "            print(f\"⚠️ Recursion limit hit at index {i}. Skipping.\")\n",
    "            medium_answers.append({\n",
    "                \"db_id\": item[\"db_id\"],\n",
    "                \"question\": item[\"question\"],\n",
    "                \"generated_sql\": \"\",\n",
    "                \"result\": \"\",\n",
    "                \"gold_sql\": item[\"query\"]\n",
    "            })\n",
    "            print(medium_answers)\n",
    "        elif \"tool_use_failed\" in error_msg or \"table\" in error_msg.lower():\n",
    "            print(f\"⚠️ Tool failure or table issue at index {i}. Skipping.\")\n",
    "            break\n",
    "        else:\n",
    "            print(f\"❌ Error at index {i}: {e}\")\n",
    "            break\n",
    "\n",
    "        with open(save_path, \"w\") as f:\n",
    "            json.dump(medium_answers, f, indent=2)"
   ]
  },
  {
   "cell_type": "markdown",
   "id": "9f8ecf79",
   "metadata": {},
   "source": [
    "## Easy Questions"
   ]
  },
  {
   "cell_type": "code",
   "execution_count": 60,
   "id": "11060aa5",
   "metadata": {},
   "outputs": [],
   "source": [
    "import json\n",
    "with open(\"extracted_sql_examples_easy.json\", \"r\") as f:\n",
    "    data = json.load(f)\n",
    "\n",
    "golden_data_easy = [\n",
    "    {\"db_id\": item[\"db_id\"], \"question\": item[\"question\"], \"query\": item[\"gold_sql\"], \"result\": item[\"gold_result\"]}\n",
    "    for item in data\n",
    "]"
   ]
  },
  {
   "cell_type": "code",
   "execution_count": 61,
   "id": "63769426",
   "metadata": {},
   "outputs": [
    {
     "data": {
      "text/plain": [
       "{'db_id': 'concert_singer',\n",
       " 'question': 'How many singers do we have?',\n",
       " 'query': 'select count(*) from singer',\n",
       " 'result': \"('6',)\"}"
      ]
     },
     "execution_count": 61,
     "metadata": {},
     "output_type": "execute_result"
    }
   ],
   "source": [
    "golden_data_easy[0]"
   ]
  },
  {
   "cell_type": "code",
   "execution_count": 63,
   "id": "dbfc3841",
   "metadata": {},
   "outputs": [
    {
     "name": "stderr",
     "output_type": "stream",
     "text": [
      "Generating SQL:   0%|          | 0/48 [00:00<?, ?q/s]"
     ]
    },
    {
     "name": "stdout",
     "output_type": "stream",
     "text": [
      "How many singers do we have?\n"
     ]
    },
    {
     "name": "stderr",
     "output_type": "stream",
     "text": [
      "Generating SQL:   2%|▏         | 1/48 [00:12<10:08, 12.96s/q]"
     ]
    },
    {
     "name": "stdout",
     "output_type": "stream",
     "text": [
      "✅ Success at index 0\n",
      "{'db_id': 'concert_singer', 'question': 'How many singers do we have?', 'generated_sql': \"SELECT COUNT(*) FROM teacher WHERE role = 'singer'\", 'result': \"Error: (sqlite3.OperationalError) no such table: teacher\\n[SQL: SELECT COUNT(*) FROM teacher WHERE role = 'singer']\\n(Background on this error at: https://sqlalche.me/e/20/e3q8)\", 'gold_sql': 'select count(*) from singer', 'gold_result': \"('6',)\"}\n",
      "What is the total number of singers?\n"
     ]
    },
    {
     "name": "stderr",
     "output_type": "stream",
     "text": [
      "Generating SQL:   4%|▍         | 2/48 [00:31<12:24, 16.18s/q]"
     ]
    },
    {
     "name": "stdout",
     "output_type": "stream",
     "text": [
      "✅ Success at index 1\n",
      "{'db_id': 'concert_singer', 'question': 'What is the total number of singers?', 'generated_sql': 'SELECT COUNT(*) FROM singer', 'result': \"('6',)\", 'gold_sql': 'select count(*) from singer', 'gold_result': \"('6',)\"}\n",
      "Show name, country, age for all singers ordered by age from the oldest to the youngest.\n"
     ]
    },
    {
     "name": "stderr",
     "output_type": "stream",
     "text": [
      "Generating SQL:   6%|▋         | 3/48 [00:45<11:23, 15.20s/q]"
     ]
    },
    {
     "name": "stdout",
     "output_type": "stream",
     "text": [
      "✅ Success at index 2\n",
      "{'db_id': 'concert_singer', 'question': 'Show name, country, age for all singers ordered by age from the oldest to the youngest.', 'generated_sql': 'SELECT name, country, age FROM singer ORDER BY age DESC', 'result': \"('Joe Sharp', 'Netherlands', '52'), ('John Nizinik', 'France', '43'), ('Justin Brown', 'France', '29'), ('Rose White', 'France', '41'), ('Timbaland', 'United States', '32'), ('Tribal King', 'France', '25')\", 'gold_sql': 'select name, country, age from singer order by age desc', 'gold_result': \"('John Nizinik', 'France', '43'), ('Joe Sharp', 'Netherlands', '52'), ('Tribal King', 'France', '25'), ('Timbaland', 'United States', '32'), ('Justin Brown', 'France', '29'), ('Rose White', 'France', '41')\"}\n",
      "How many singers are there?\n"
     ]
    },
    {
     "name": "stderr",
     "output_type": "stream",
     "text": [
      "Generating SQL:   8%|▊         | 4/48 [01:00<11:15, 15.34s/q]"
     ]
    },
    {
     "name": "stdout",
     "output_type": "stream",
     "text": [
      "✅ Success at index 3\n",
      "{'db_id': 'singer', 'question': 'How many singers are there?', 'generated_sql': 'SELECT COUNT(*) FROM singer', 'result': \"('8',)\", 'gold_sql': 'select count(*) from singer', 'gold_result': \"('8',)\"}\n",
      "What is the count of singers?\n"
     ]
    },
    {
     "name": "stderr",
     "output_type": "stream",
     "text": [
      "Generating SQL:  10%|█         | 5/48 [01:27<13:47, 19.24s/q]"
     ]
    },
    {
     "name": "stdout",
     "output_type": "stream",
     "text": [
      "✅ Success at index 4\n",
      "{'db_id': 'singer', 'question': 'What is the count of singers?', 'generated_sql': 'SELECT COUNT(*) FROM singer', 'result': \"('8',)\", 'gold_sql': 'select count(*) from singer', 'gold_result': \"('8',)\"}\n",
      "What are the birth year and citizenship of singers?\n"
     ]
    },
    {
     "name": "stderr",
     "output_type": "stream",
     "text": [
      "Generating SQL:  12%|█▎        | 6/48 [01:48<14:01, 20.03s/q]"
     ]
    },
    {
     "name": "stdout",
     "output_type": "stream",
     "text": [
      "✅ Success at index 5\n",
      "{'db_id': 'singer', 'question': 'What are the birth year and citizenship of singers?', 'generated_sql': 'SELECT birth_year, citizenship FROM singer', 'result': \"('1940.0', 'United States'), ('1942.0', 'Chile'), ('1944.0', 'France'), ('1948.0', 'United States'), ('1949.0', 'United States'), ('1953.0', 'Australia'), ('1961.0', 'United States'), ('1962.0', 'Germany')\", 'gold_sql': 'select birth_year, citizenship from singer', 'gold_result': \"('1962.0', 'Germany'), ('1949.0', 'United States'), ('1942.0', 'Chile'), ('1940.0', 'United States'), ('1948.0', 'United States'), ('1953.0', 'Australia'), ('1961.0', 'United States'), ('1944.0', 'France')\"}\n",
      "What are the birth years and citizenships of the singers?\n"
     ]
    },
    {
     "name": "stderr",
     "output_type": "stream",
     "text": [
      "Generating SQL:  15%|█▍        | 7/48 [02:06<13:08, 19.24s/q]"
     ]
    },
    {
     "name": "stdout",
     "output_type": "stream",
     "text": [
      "✅ Success at index 6\n",
      "{'db_id': 'singer', 'question': 'What are the birth years and citizenships of the singers?', 'generated_sql': 'SELECT birth_year, citizenship FROM singer', 'result': \"('1940.0', 'United States'), ('1942.0', 'Chile'), ('1944.0', 'France'), ('1948.0', 'United States'), ('1949.0', 'United States'), ('1953.0', 'Australia'), ('1961.0', 'United States'), ('1962.0', 'Germany')\", 'gold_sql': 'select birth_year, citizenship from singer', 'gold_result': \"('1962.0', 'Germany'), ('1949.0', 'United States'), ('1942.0', 'Chile'), ('1940.0', 'United States'), ('1948.0', 'United States'), ('1953.0', 'Australia'), ('1961.0', 'United States'), ('1944.0', 'France')\"}\n",
      "List the name of singers whose citizenship is not \"France\".\n"
     ]
    },
    {
     "name": "stderr",
     "output_type": "stream",
     "text": [
      "Generating SQL:  17%|█▋        | 8/48 [02:20<11:49, 17.75s/q]"
     ]
    },
    {
     "name": "stdout",
     "output_type": "stream",
     "text": [
      "✅ Success at index 7\n",
      "{'db_id': 'singer', 'question': 'List the name of singers whose citizenship is not \"France\".', 'generated_sql': \"SELECT name FROM singer WHERE citizenship != 'France'\", 'result': \"('Abigail Johnson',), ('Alice Walton',), ('Christy Walton',), ('Gina Rinehart',), ('Iris Fontbona',), ('Jacqueline Mars',), ('Susanne Klatten',)\", 'gold_sql': 'select name from singer where citizenship != \"france\"', 'gold_result': \"('Iris Fontbona',), ('Gina Rinehart',), ('Abigail Johnson',), ('Susanne Klatten',), ('Jacqueline Mars',), ('Alice Walton',), ('Christy Walton',)\"}\n",
      "How many visitors below age 30 are there?\n"
     ]
    },
    {
     "name": "stderr",
     "output_type": "stream",
     "text": [
      "Generating SQL:  19%|█▉        | 9/48 [02:36<11:02, 16.98s/q]"
     ]
    },
    {
     "name": "stdout",
     "output_type": "stream",
     "text": [
      "✅ Success at index 8\n",
      "{'db_id': 'museum_visit', 'question': 'How many visitors below age 30 are there?', 'generated_sql': 'SELECT COUNT(*) FROM singer WHERE age < 30', 'result': 'Error: (sqlite3.OperationalError) no such table: singer\\n[SQL: SELECT COUNT(*) FROM singer WHERE age < 30]\\n(Background on this error at: https://sqlalche.me/e/20/e3q8)', 'gold_sql': 'select count(*) from visitor where age < 30', 'gold_result': \"('3',)\"}\n",
      "How many dogs have an age below the average?\n"
     ]
    },
    {
     "name": "stderr",
     "output_type": "stream",
     "text": [
      "Generating SQL:  21%|██        | 10/48 [02:45<09:10, 14.48s/q]"
     ]
    },
    {
     "name": "stdout",
     "output_type": "stream",
     "text": [
      "✅ Success at index 9\n",
      "{'db_id': 'dog_kennels', 'question': 'How many dogs have an age below the average?', 'generated_sql': 'SELECT COUNT(*) FROM dogs WHERE age < (SELECT AVG(age) FROM dogs)', 'result': \"('9',)\", 'gold_sql': 'select count(*) from dogs where age < (select avg(age) from dogs)', 'gold_result': \"('9',)\"}\n",
      "Count the number of dogs of an age below the average.\n"
     ]
    },
    {
     "name": "stderr",
     "output_type": "stream",
     "text": [
      "Generating SQL:  23%|██▎       | 11/48 [03:03<09:45, 15.81s/q]"
     ]
    },
    {
     "name": "stdout",
     "output_type": "stream",
     "text": [
      "✅ Success at index 10\n",
      "{'db_id': 'dog_kennels', 'question': 'Count the number of dogs of an age below the average.', 'generated_sql': 'SELECT COUNT(*) FROM Dogs WHERE Age < (SELECT AVG(Age) FROM Dogs)', 'result': \"('9',)\", 'gold_sql': 'select count(*) from dogs where age < (select avg(age) from dogs)', 'gold_result': \"('9',)\"}\n",
      "List the earnings of poker players in descending order.\n"
     ]
    },
    {
     "name": "stderr",
     "output_type": "stream",
     "text": [
      "Generating SQL:  25%|██▌       | 12/48 [03:27<10:52, 18.13s/q]"
     ]
    },
    {
     "name": "stdout",
     "output_type": "stream",
     "text": [
      "✅ Success at index 11\n",
      "{'db_id': 'poker_player', 'question': 'List the earnings of poker players in descending order.', 'generated_sql': 'SELECT earnings FROM Poker_Players ORDER BY earnings DESC', 'result': 'Error: (sqlite3.OperationalError) no such table: Poker_Players\\n[SQL: SELECT earnings FROM Poker_Players ORDER BY earnings DESC]\\n(Background on this error at: https://sqlalche.me/e/20/e3q8)', 'gold_sql': 'select earnings from poker_player order by earnings desc', 'gold_result': \"('596462.0',), ('189233.0',), ('476090.0',), ('142800.0',), ('104871.0',)\"}\n",
      "What are the earnings of poker players, ordered descending by value?\n"
     ]
    },
    {
     "name": "stderr",
     "output_type": "stream",
     "text": [
      "Generating SQL:  27%|██▋       | 13/48 [03:36<09:03, 15.54s/q]"
     ]
    },
    {
     "name": "stdout",
     "output_type": "stream",
     "text": [
      "✅ Success at index 12\n",
      "{'db_id': 'poker_player', 'question': 'What are the earnings of poker players, ordered descending by value?', 'generated_sql': 'SELECT earnings FROM poker_player ORDER BY earnings DESC', 'result': \"('104871.0',), ('142800.0',), ('189233.0',), ('476090.0',), ('596462.0',)\", 'gold_sql': 'select earnings from poker_player order by earnings desc', 'gold_result': \"('596462.0',), ('189233.0',), ('476090.0',), ('142800.0',), ('104871.0',)\"}\n",
      "What is the average earnings of poker players?\n"
     ]
    },
    {
     "name": "stderr",
     "output_type": "stream",
     "text": [
      "Generating SQL:  29%|██▉       | 14/48 [03:48<08:11, 14.45s/q]"
     ]
    },
    {
     "name": "stdout",
     "output_type": "stream",
     "text": [
      "✅ Success at index 13\n",
      "{'db_id': 'poker_player', 'question': 'What is the average earnings of poker players?', 'generated_sql': 'SELECT AVG(earnings) FROM poker_player', 'result': \"('301891.2',)\", 'gold_sql': 'select avg(earnings) from poker_player', 'gold_result': \"('301891.2',)\"}\n",
      "Return the average earnings across all poker players.\n"
     ]
    },
    {
     "name": "stderr",
     "output_type": "stream",
     "text": [
      "Generating SQL:  31%|███▏      | 15/48 [04:09<08:59, 16.33s/q]"
     ]
    },
    {
     "name": "stdout",
     "output_type": "stream",
     "text": [
      "✅ Success at index 14\n",
      "{'db_id': 'poker_player', 'question': 'Return the average earnings across all poker players.', 'generated_sql': 'SELECT AVG(earnings) FROM poker_player', 'result': \"('301891.2',)\", 'gold_sql': 'select avg(earnings) from poker_player', 'gold_result': \"('301891.2',)\"}\n",
      "List the title of all cartoons in alphabetical order.\n"
     ]
    },
    {
     "name": "stderr",
     "output_type": "stream",
     "text": [
      "Generating SQL:  33%|███▎      | 16/48 [04:28<09:05, 17.05s/q]"
     ]
    },
    {
     "name": "stdout",
     "output_type": "stream",
     "text": [
      "✅ Success at index 15\n",
      "{'db_id': 'tvshow', 'question': 'List the title of all cartoons in alphabetical order.', 'generated_sql': '', 'result': '', 'gold_sql': 'select title from cartoon order by title', 'gold_result': \"('Evil Under the Sea!',), ('Day of the Dark Knight!',), ('Deep Cover for Batman!',), ('Journey to the Center of the Bat!',), ('The Eyes of Despero!',), ('Enter the Outsiders!',), ('Dawn of the Dead Man!',), ('Return of the Fearsome Fangs!',), ('Fall of the Blue Beetle!',), ('The Rise of the Blue Beetle!',), ('Terror on Dinosaur Island!',), ('Invasion of the Secret Santas!',)\"}\n",
      "What are the titles of the cartoons sorted alphabetically?\n"
     ]
    },
    {
     "name": "stderr",
     "output_type": "stream",
     "text": [
      "Generating SQL:  35%|███▌      | 17/48 [04:38<07:45, 15.01s/q]"
     ]
    },
    {
     "name": "stdout",
     "output_type": "stream",
     "text": [
      "✅ Success at index 16\n",
      "{'db_id': 'tvshow', 'question': 'What are the titles of the cartoons sorted alphabetically?', 'generated_sql': 'SELECT title FROM Cartoon ORDER BY title ASC', 'result': \"('Dawn of the Dead Man!',), ('Day of the Dark Knight!',), ('Deep Cover for Batman!',), ('Enter the Outsiders!',), ('Evil Under the Sea!',), ('Fall of the Blue Beetle!',), ('Invasion of the Secret Santas!',), ('Journey to the Center of the Bat!',), ('Return of the Fearsome Fangs!',), ('Terror on Dinosaur Island!',), ('The Eyes of Despero!',), ('The Rise of the Blue Beetle!',)\", 'gold_sql': 'select title from cartoon order by title', 'gold_result': \"('Evil Under the Sea!',), ('Day of the Dark Knight!',), ('Deep Cover for Batman!',), ('Journey to the Center of the Bat!',), ('The Eyes of Despero!',), ('Enter the Outsiders!',), ('Dawn of the Dead Man!',), ('Return of the Fearsome Fangs!',), ('Fall of the Blue Beetle!',), ('The Rise of the Blue Beetle!',), ('Terror on Dinosaur Island!',), ('Invasion of the Secret Santas!',)\"}\n",
      "How many TV Channel using language English?\n"
     ]
    },
    {
     "name": "stderr",
     "output_type": "stream",
     "text": [
      "Generating SQL:  38%|███▊      | 18/48 [04:57<08:08, 16.29s/q]"
     ]
    },
    {
     "name": "stdout",
     "output_type": "stream",
     "text": [
      "✅ Success at index 17\n",
      "{'db_id': 'tvshow', 'question': 'How many TV Channel using language English?', 'generated_sql': \"SELECT COUNT(*) FROM TV_Channel WHERE language = 'English'\", 'result': \"('3',)\", 'gold_sql': 'select count(*) from tv_channel where language = \"english\"', 'gold_result': \"('3',)\"}\n",
      "List the Episode of all TV series sorted by rating.\n"
     ]
    },
    {
     "name": "stderr",
     "output_type": "stream",
     "text": [
      "Generating SQL:  40%|███▉      | 19/48 [05:00<05:53, 12.19s/q]"
     ]
    },
    {
     "name": "stdout",
     "output_type": "stream",
     "text": [
      "✅ Success at index 18\n",
      "{'db_id': 'tvshow', 'question': 'List the Episode of all TV series sorted by rating.', 'generated_sql': 'SELECT Episode FROM TV_series ORDER BY rating', 'result': \"('A Love of a Lifetime',), ('Blowback',), ('Double Down',), ('Emily',), ('Friendly Skies',), ('Game Three',), ('Home By Another Way',), ('Keepers',), ('The Hanged Man',), ('The Legend of Dylan McCleen',), ('The Year of the Rabbit',), ('Winterland',)\", 'gold_sql': 'select episode from tv_series order by rating', 'gold_result': \"('Game Three',), ('Emily',), ('The Year of the Rabbit',), ('Winterland',), ('A Love of a Lifetime',), ('Double Down',), ('Keepers',), ('Home By Another Way',), ('The Hanged Man',), ('Friendly Skies',), ('The Legend of Dylan McCleen',), ('Blowback',)\"}\n",
      "What is minimum and maximum share of TV series?\n"
     ]
    },
    {
     "name": "stderr",
     "output_type": "stream",
     "text": [
      "Generating SQL:  42%|████▏     | 20/48 [05:14<06:00, 12.88s/q]"
     ]
    },
    {
     "name": "stdout",
     "output_type": "stream",
     "text": [
      "✅ Success at index 19\n",
      "{'db_id': 'tvshow', 'question': 'What is minimum and maximum share of TV series?', 'generated_sql': 'SELECT MIN(share), MAX(share) FROM TV_series', 'result': \"('5.0', '9.0')\", 'gold_sql': 'select max(share), min(share) from tv_series', 'gold_result': \"('9.0', '5.0')\"}\n",
      "What is the maximum and minimum share for the TV series?\n"
     ]
    },
    {
     "name": "stderr",
     "output_type": "stream",
     "text": [
      "Generating SQL:  44%|████▍     | 21/48 [05:26<05:35, 12.44s/q]"
     ]
    },
    {
     "name": "stdout",
     "output_type": "stream",
     "text": [
      "✅ Success at index 20\n",
      "{'db_id': 'tvshow', 'question': 'What is the maximum and minimum share for the TV series?', 'generated_sql': 'SELECT MAX(share), MIN(share) FROM TV_series', 'result': \"('9.0', '5.0')\", 'gold_sql': 'select max(share), min(share) from tv_series', 'gold_result': \"('9.0', '5.0')\"}\n",
      "Find the total number of players.\n"
     ]
    },
    {
     "name": "stderr",
     "output_type": "stream",
     "text": [
      "Generating SQL:  46%|████▌     | 22/48 [05:40<05:37, 12.98s/q]"
     ]
    },
    {
     "name": "stdout",
     "output_type": "stream",
     "text": [
      "✅ Success at index 21\n",
      "{'db_id': 'wta_1', 'question': 'Find the total number of players.', 'generated_sql': '', 'result': '', 'gold_sql': 'select count(*) from players', 'gold_result': \"('20662',)\"}\n",
      "How many players are there?\n"
     ]
    },
    {
     "name": "stderr",
     "output_type": "stream",
     "text": [
      "Generating SQL:  48%|████▊     | 23/48 [05:55<05:41, 13.66s/q]"
     ]
    },
    {
     "name": "stdout",
     "output_type": "stream",
     "text": [
      "✅ Success at index 22\n",
      "{'db_id': 'wta_1', 'question': 'How many players are there?', 'generated_sql': 'SELECT COUNT(*) FROM players', 'result': \"('20662',)\", 'gold_sql': 'select count(*) from players', 'gold_result': \"('20662',)\"}\n",
      "Find the total number of matches.\n"
     ]
    },
    {
     "name": "stderr",
     "output_type": "stream",
     "text": [
      "Generating SQL:  50%|█████     | 24/48 [06:08<05:18, 13.27s/q]"
     ]
    },
    {
     "name": "stdout",
     "output_type": "stream",
     "text": [
      "✅ Success at index 23\n",
      "{'db_id': 'wta_1', 'question': 'Find the total number of matches.', 'generated_sql': 'SELECT COUNT(*) FROM matches', 'result': \"('278',)\", 'gold_sql': 'select count(*) from matches', 'gold_result': \"('278',)\"}\n",
      "Count the number of matches.\n"
     ]
    },
    {
     "name": "stderr",
     "output_type": "stream",
     "text": [
      "Generating SQL:  52%|█████▏    | 25/48 [06:21<05:05, 13.27s/q]"
     ]
    },
    {
     "name": "stdout",
     "output_type": "stream",
     "text": [
      "✅ Success at index 24\n",
      "{'db_id': 'wta_1', 'question': 'Count the number of matches.', 'generated_sql': 'SELECT COUNT(*) FROM matches', 'result': \"('278',)\", 'gold_sql': 'select count(*) from matches', 'gold_result': \"('278',)\"}\n",
      "What is the average rank for winners in all matches?\n"
     ]
    },
    {
     "name": "stderr",
     "output_type": "stream",
     "text": [
      "Generating SQL:  54%|█████▍    | 26/48 [06:38<05:17, 14.42s/q]"
     ]
    },
    {
     "name": "stdout",
     "output_type": "stream",
     "text": [
      "✅ Success at index 25\n",
      "{'db_id': 'wta_1', 'question': 'What is the average rank for winners in all matches?', 'generated_sql': 'SELECT AVG(T1.rank) FROM rankings AS T1 INNER JOIN matches AS T2 ON T1.player_id = T2.winner_id', 'result': 'Error: (sqlite3.OperationalError) no such column: T1.rank\\n[SQL: SELECT AVG(T1.rank) FROM rankings AS T1 INNER JOIN matches AS T2 ON T1.player_id = T2.winner_id]\\n(Background on this error at: https://sqlalche.me/e/20/e3q8)', 'gold_sql': 'select avg(winner_rank) from matches', 'gold_result': \"('13.715827338129497',)\"}\n",
      "List the first and last name of all players in the order of birth date.\n"
     ]
    },
    {
     "name": "stderr",
     "output_type": "stream",
     "text": [
      "Generating SQL:  56%|█████▋    | 27/48 [06:55<05:21, 15.33s/q]"
     ]
    },
    {
     "name": "stdout",
     "output_type": "stream",
     "text": [
      "✅ Success at index 26\n",
      "{'db_id': 'wta_1', 'question': 'List the first and last name of all players in the order of birth date.', 'generated_sql': '', 'result': '', 'gold_sql': 'select first_name, last_name from players order by birth_date', 'gold_result': 'None'}\n",
      "What are the full names of all players, sorted by birth date?\n"
     ]
    },
    {
     "name": "stderr",
     "output_type": "stream",
     "text": [
      "Generating SQL:  58%|█████▊    | 28/48 [07:07<04:41, 14.08s/q]"
     ]
    },
    {
     "name": "stdout",
     "output_type": "stream",
     "text": [
      "✅ Success at index 27\n",
      "{'db_id': 'wta_1', 'question': 'What are the full names of all players, sorted by birth date?', 'generated_sql': 'SELECT first_name, last_name FROM players ORDER BY birth_date', 'result': \"Error: (sqlite3.OperationalError) Could not decode to UTF-8 column 'last_name' with text 'Treyes Albarrac��N'\\n(Background on this error at: https://sqlalche.me/e/20/e3q8)\", 'gold_sql': 'select first_name, last_name from players order by birth_date', 'gold_result': 'None'}\n",
      "How many teachers are there?\n"
     ]
    },
    {
     "name": "stderr",
     "output_type": "stream",
     "text": [
      "Generating SQL:  60%|██████    | 29/48 [07:30<05:18, 16.78s/q]"
     ]
    },
    {
     "name": "stdout",
     "output_type": "stream",
     "text": [
      "✅ Success at index 28\n",
      "{'db_id': 'course_teach', 'question': 'How many teachers are there?', 'generated_sql': \"SELECT COUNT(*) FROM players WHERE role = 'teacher'\", 'result': \"Error: (sqlite3.OperationalError) no such table: players\\n[SQL: SELECT COUNT(*) FROM players WHERE role = 'teacher']\\n(Background on this error at: https://sqlalche.me/e/20/e3q8)\", 'gold_sql': 'select count(*) from teacher', 'gold_result': \"('7',)\"}\n",
      "What is the total count of teachers?\n"
     ]
    },
    {
     "name": "stderr",
     "output_type": "stream",
     "text": [
      "Generating SQL:  62%|██████▎   | 30/48 [07:48<05:08, 17.15s/q]"
     ]
    },
    {
     "name": "stdout",
     "output_type": "stream",
     "text": [
      "✅ Success at index 29\n",
      "{'db_id': 'course_teach', 'question': 'What is the total count of teachers?', 'generated_sql': 'SELECT COUNT(*) FROM teacher', 'result': \"('7',)\", 'gold_sql': 'select count(*) from teacher', 'gold_result': \"('7',)\"}\n",
      "List the names of teachers in ascending order of age.\n"
     ]
    },
    {
     "name": "stderr",
     "output_type": "stream",
     "text": [
      "Generating SQL:  65%|██████▍   | 31/48 [07:59<04:20, 15.32s/q]"
     ]
    },
    {
     "name": "stdout",
     "output_type": "stream",
     "text": [
      "✅ Success at index 30\n",
      "{'db_id': 'course_teach', 'question': 'List the names of teachers in ascending order of age.', 'generated_sql': 'SELECT name FROM teacher ORDER BY age ASC', 'result': \"('Anne Walker',), ('Gustaaf Deloor',), ('John Deloor',), ('Joseph Huts',), ('Kearsley Brown',), ('Lucy Wong',), ('Vicente Carretero',)\", 'gold_sql': 'select name from teacher order by age asc', 'gold_result': \"('Vicente Carretero',), ('Kearsley Brown',), ('Gustaaf Deloor',), ('Anne Walker',), ('John Deloor',), ('Joseph Huts',), ('Lucy Wong',)\"}\n",
      "What are the names of the teachers ordered by ascending age?\n"
     ]
    },
    {
     "name": "stderr",
     "output_type": "stream",
     "text": [
      "Generating SQL:  67%|██████▋   | 32/48 [08:12<03:53, 14.60s/q]"
     ]
    },
    {
     "name": "stdout",
     "output_type": "stream",
     "text": [
      "✅ Success at index 31\n",
      "{'db_id': 'course_teach', 'question': 'What are the names of the teachers ordered by ascending age?', 'generated_sql': 'SELECT name FROM teacher ORDER BY age ASC', 'result': \"('Anne Walker',), ('Gustaaf Deloor',), ('John Deloor',), ('Joseph Huts',), ('Kearsley Brown',), ('Lucy Wong',), ('Vicente Carretero',)\", 'gold_sql': 'select name from teacher order by age asc', 'gold_result': \"('Vicente Carretero',), ('Kearsley Brown',), ('Gustaaf Deloor',), ('Anne Walker',), ('John Deloor',), ('Joseph Huts',), ('Lucy Wong',)\"}\n",
      "What are the age and hometown of teachers?\n"
     ]
    },
    {
     "name": "stderr",
     "output_type": "stream",
     "text": [
      "Generating SQL:  69%|██████▉   | 33/48 [08:29<03:48, 15.26s/q]"
     ]
    },
    {
     "name": "stdout",
     "output_type": "stream",
     "text": [
      "✅ Success at index 32\n",
      "{'db_id': 'course_teach', 'question': 'What are the age and hometown of teachers?', 'generated_sql': 'SELECT age, hometown FROM teacher', 'result': \"('26', 'Farnworth Municipal Borough'), ('29', 'Bolton County Borough'), ('32', 'Blackrod Urban District'), ('33', 'Horwich Urban District'), ('39', 'Turton Urban District'), ('41', 'Little Lever Urban District'), ('45', 'Kearsley Urban District')\", 'gold_sql': 'select age, hometown from teacher', 'gold_result': \"('41', 'Little Lever Urban District'), ('26', 'Farnworth Municipal Borough'), ('33', 'Horwich Urban District'), ('39', 'Turton Urban District'), ('32', 'Blackrod Urban District'), ('29', 'Bolton County Borough'), ('45', 'Kearsley Urban District')\"}\n",
      "What is the age and hometown of every teacher?\n"
     ]
    },
    {
     "name": "stderr",
     "output_type": "stream",
     "text": [
      "Generating SQL:  71%|███████   | 34/48 [08:42<03:25, 14.64s/q]"
     ]
    },
    {
     "name": "stdout",
     "output_type": "stream",
     "text": [
      "✅ Success at index 33\n",
      "{'db_id': 'course_teach', 'question': 'What is the age and hometown of every teacher?', 'generated_sql': 'SELECT age, hometown FROM teacher', 'result': \"('26', 'Farnworth Municipal Borough'), ('29', 'Bolton County Borough'), ('32', 'Blackrod Urban District'), ('33', 'Horwich Urban District'), ('39', 'Turton Urban District'), ('41', 'Little Lever Urban District'), ('45', 'Kearsley Urban District')\", 'gold_sql': 'select age, hometown from teacher', 'gold_result': \"('41', 'Little Lever Urban District'), ('26', 'Farnworth Municipal Borough'), ('33', 'Horwich Urban District'), ('39', 'Turton Urban District'), ('32', 'Blackrod Urban District'), ('29', 'Bolton County Borough'), ('45', 'Kearsley Urban District')\"}\n",
      "List the name of teachers whose hometown is not `` Little Lever Urban District '' .\n"
     ]
    },
    {
     "name": "stderr",
     "output_type": "stream",
     "text": [
      "Generating SQL:  73%|███████▎  | 35/48 [08:57<03:12, 14.83s/q]"
     ]
    },
    {
     "name": "stdout",
     "output_type": "stream",
     "text": [
      "✅ Success at index 34\n",
      "{'db_id': 'course_teach', 'question': \"List the name of teachers whose hometown is not `` Little Lever Urban District '' .\", 'generated_sql': \"SELECT name FROM teacher WHERE hometown != 'Little Lever Urban District'\", 'result': \"('Gustaaf Deloor',), ('John Deloor',), ('Joseph Huts',), ('Kearsley Brown',), ('Lucy Wong',), ('Vicente Carretero',)\", 'gold_sql': 'select name from teacher where hometown != \"little lever urban district\"', 'gold_result': \"('Vicente Carretero',), ('Kearsley Brown',), ('Gustaaf Deloor',), ('Anne Walker',), ('John Deloor',), ('Joseph Huts',), ('Lucy Wong',)\"}\n",
      "What are the names of the teachers whose hometown is not `` Little Lever Urban District '' ?\n"
     ]
    },
    {
     "name": "stderr",
     "output_type": "stream",
     "text": [
      "Generating SQL:  75%|███████▌  | 36/48 [09:10<02:49, 14.15s/q]"
     ]
    },
    {
     "name": "stdout",
     "output_type": "stream",
     "text": [
      "✅ Success at index 35\n",
      "{'db_id': 'course_teach', 'question': \"What are the names of the teachers whose hometown is not `` Little Lever Urban District '' ?\", 'generated_sql': \"SELECT name FROM teacher WHERE hometown != 'Little Lever Urban District'\", 'result': \"('Gustaaf Deloor',), ('John Deloor',), ('Joseph Huts',), ('Kearsley Brown',), ('Lucy Wong',), ('Vicente Carretero',)\", 'gold_sql': 'select name from teacher where hometown != \"little lever urban district\"', 'gold_result': \"('Vicente Carretero',), ('Kearsley Brown',), ('Gustaaf Deloor',), ('Anne Walker',), ('John Deloor',), ('Joseph Huts',), ('Lucy Wong',)\"}\n",
      "What is the number of employees from each city?\n"
     ]
    },
    {
     "name": "stderr",
     "output_type": "stream",
     "text": [
      "Generating SQL:  77%|███████▋  | 37/48 [09:21<02:26, 13.32s/q]"
     ]
    },
    {
     "name": "stdout",
     "output_type": "stream",
     "text": [
      "✅ Success at index 36\n",
      "{'db_id': 'employee_hire_evaluation', 'question': 'What is the number of employees from each city?', 'generated_sql': 'SELECT city, COUNT(*) FROM teacher GROUP BY city', 'result': 'Error: (sqlite3.OperationalError) no such table: teacher\\n[SQL: SELECT city, COUNT(*) FROM teacher GROUP BY city]\\n(Background on this error at: https://sqlalche.me/e/20/e3q8)', 'gold_sql': 'select count(*), city from employee group by city', 'gold_result': \"('2', 'Wasps'), ('3', 'Bath'), ('1', 'Sale'), ('3', 'Bristol'), ('1', 'Leicester')\"}\n",
      "Count the number of employees for each city.\n"
     ]
    },
    {
     "name": "stderr",
     "output_type": "stream",
     "text": [
      "Generating SQL:  79%|███████▉  | 38/48 [09:32<02:06, 12.61s/q]"
     ]
    },
    {
     "name": "stdout",
     "output_type": "stream",
     "text": [
      "✅ Success at index 37\n",
      "{'db_id': 'employee_hire_evaluation', 'question': 'Count the number of employees for each city.', 'generated_sql': 'SELECT city, COUNT(*) FROM employee GROUP BY city', 'result': \"('Bath', '3'), ('Bristol', '3'), ('Leicester', '1'), ('Sale', '1'), ('Wasps', '2')\", 'gold_sql': 'select count(*), city from employee group by city', 'gold_result': \"('2', 'Wasps'), ('3', 'Bath'), ('1', 'Sale'), ('3', 'Bristol'), ('1', 'Leicester')\"}\n",
      "Find the number of shops in each location.\n"
     ]
    },
    {
     "name": "stderr",
     "output_type": "stream",
     "text": [
      "Generating SQL:  81%|████████▏ | 39/48 [09:54<02:19, 15.53s/q]"
     ]
    },
    {
     "name": "stdout",
     "output_type": "stream",
     "text": [
      "✅ Success at index 38\n",
      "{'db_id': 'employee_hire_evaluation', 'question': 'Find the number of shops in each location.', 'generated_sql': 'SELECT location, COUNT(*) FROM shop GROUP BY location', 'result': \"('Espoo', '1'), ('Helsinki', '1'), ('Jakobstad', '1'), ('Kotka', '1'), ('Kuopio', '1'), ('Lahti', '1'), ('Mariehamn', '1'), ('Turku', '1'), ('Valkeakoski', '1')\", 'gold_sql': 'select count(*), location from shop group by location', 'gold_result': \"('1', 'Lahti'), ('1', 'Valkeakoski'), ('1', 'Kuopio'), ('1', 'Mariehamn'), ('1', 'Turku'), ('1', 'Jakobstad'), ('1', 'Espoo'), ('1', 'Kotka'), ('1', 'Helsinki')\"}\n",
      "How many shops are there in each location?\n"
     ]
    },
    {
     "name": "stderr",
     "output_type": "stream",
     "text": [
      "Generating SQL:  83%|████████▎ | 40/48 [10:05<01:51, 13.97s/q]"
     ]
    },
    {
     "name": "stdout",
     "output_type": "stream",
     "text": [
      "✅ Success at index 39\n",
      "{'db_id': 'employee_hire_evaluation', 'question': 'How many shops are there in each location?', 'generated_sql': 'SELECT location, COUNT(*) FROM shop GROUP BY location', 'result': \"('Espoo', '1'), ('Helsinki', '1'), ('Jakobstad', '1'), ('Kotka', '1'), ('Kuopio', '1'), ('Lahti', '1'), ('Mariehamn', '1'), ('Turku', '1'), ('Valkeakoski', '1')\", 'gold_sql': 'select count(*), location from shop group by location', 'gold_result': \"('1', 'Lahti'), ('1', 'Valkeakoski'), ('1', 'Kuopio'), ('1', 'Mariehamn'), ('1', 'Turku'), ('1', 'Jakobstad'), ('1', 'Espoo'), ('1', 'Kotka'), ('1', 'Helsinki')\"}\n",
      "How many employees are there?\n"
     ]
    },
    {
     "name": "stderr",
     "output_type": "stream",
     "text": [
      "Generating SQL:  85%|████████▌ | 41/48 [10:24<01:49, 15.62s/q]"
     ]
    },
    {
     "name": "stdout",
     "output_type": "stream",
     "text": [
      "✅ Success at index 40\n",
      "{'db_id': 'employee_hire_evaluation', 'question': 'How many employees are there?', 'generated_sql': 'SELECT COUNT(*) FROM employee', 'result': \"('10',)\", 'gold_sql': 'select count(*) from employee', 'gold_result': \"('10',)\"}\n",
      "Count the number of employees\n"
     ]
    },
    {
     "name": "stderr",
     "output_type": "stream",
     "text": [
      "Generating SQL:  88%|████████▊ | 42/48 [10:35<01:25, 14.20s/q]"
     ]
    },
    {
     "name": "stdout",
     "output_type": "stream",
     "text": [
      "✅ Success at index 41\n",
      "{'db_id': 'employee_hire_evaluation', 'question': 'Count the number of employees', 'generated_sql': 'SELECT COUNT(*) FROM employee', 'result': \"('10',)\", 'gold_sql': 'select count(*) from employee', 'gold_result': \"('10',)\"}\n",
      "Sort employee names by their age in ascending order.\n"
     ]
    },
    {
     "name": "stderr",
     "output_type": "stream",
     "text": [
      "Generating SQL:  90%|████████▉ | 43/48 [10:48<01:09, 13.95s/q]"
     ]
    },
    {
     "name": "stdout",
     "output_type": "stream",
     "text": [
      "✅ Success at index 42\n",
      "{'db_id': 'employee_hire_evaluation', 'question': 'Sort employee names by their age in ascending order.', 'generated_sql': '', 'result': '', 'gold_sql': 'select name from employee order by age', 'gold_result': \"('Lee Mears',), ('Tim Payne',), ('Louis Deacon',), ('Steve Borthwick',), ('Jason Hobson',), ('Mark Regan',), ('George Chuter',), ('Matt Stevens',), ('Phil Vickery',), ('Andrew Sheridan',)\"}\n",
      "List the names of employees and sort in ascending order of age.\n"
     ]
    },
    {
     "name": "stderr",
     "output_type": "stream",
     "text": [
      "Generating SQL:  92%|█████████▏| 44/48 [11:01<00:54, 13.61s/q]"
     ]
    },
    {
     "name": "stdout",
     "output_type": "stream",
     "text": [
      "✅ Success at index 43\n",
      "{'db_id': 'employee_hire_evaluation', 'question': 'List the names of employees and sort in ascending order of age.', 'generated_sql': 'SELECT name FROM employee ORDER BY age ASC', 'result': \"('Andrew Sheridan',), ('George Chuter',), ('Jason Hobson',), ('Lee Mears',), ('Louis Deacon',), ('Mark Regan',), ('Matt Stevens',), ('Phil Vickery',), ('Steve Borthwick',), ('Tim Payne',)\", 'gold_sql': 'select name from employee order by age', 'gold_result': \"('Lee Mears',), ('Tim Payne',), ('Louis Deacon',), ('Steve Borthwick',), ('Jason Hobson',), ('Mark Regan',), ('George Chuter',), ('Matt Stevens',), ('Phil Vickery',), ('Andrew Sheridan',)\"}\n",
      "What is total bonus given in all evaluations?\n"
     ]
    },
    {
     "name": "stderr",
     "output_type": "stream",
     "text": [
      "Generating SQL:  94%|█████████▍| 45/48 [11:12<00:38, 12.71s/q]"
     ]
    },
    {
     "name": "stdout",
     "output_type": "stream",
     "text": [
      "✅ Success at index 44\n",
      "{'db_id': 'employee_hire_evaluation', 'question': 'What is total bonus given in all evaluations?', 'generated_sql': 'SELECT SUM(bonus) FROM evaluation', 'result': \"('19500.0',)\", 'gold_sql': 'select sum(bonus) from evaluation', 'gold_result': \"('19500.0',)\"}\n",
      "Find the total amount of bonus given in all the evaluations.\n"
     ]
    },
    {
     "name": "stderr",
     "output_type": "stream",
     "text": [
      "Generating SQL:  96%|█████████▌| 46/48 [11:32<00:30, 15.05s/q]"
     ]
    },
    {
     "name": "stdout",
     "output_type": "stream",
     "text": [
      "✅ Success at index 45\n",
      "{'db_id': 'employee_hire_evaluation', 'question': 'Find the total amount of bonus given in all the evaluations.', 'generated_sql': 'SELECT SUM(bonus) FROM evaluation', 'result': \"('19500.0',)\", 'gold_sql': 'select sum(bonus) from evaluation', 'gold_result': \"('19500.0',)\"}\n",
      "Give me all the information about hiring.\n"
     ]
    },
    {
     "name": "stderr",
     "output_type": "stream",
     "text": [
      "Generating SQL:  98%|█████████▊| 47/48 [11:44<00:13, 13.96s/q]"
     ]
    },
    {
     "name": "stdout",
     "output_type": "stream",
     "text": [
      "✅ Success at index 46\n",
      "{'db_id': 'employee_hire_evaluation', 'question': 'Give me all the information about hiring.', 'generated_sql': '', 'result': '', 'gold_sql': 'select * from hiring', 'gold_result': \"('4', '4', '2012', 'T'), ('1', '1', '2009', 'T'), ('2', '6', '2010', 'F'), ('8', '3', '2011', 'F'), ('6', '7', '2008', 'T'), ('1', '2', '2003', 'T'), ('5', '5', '2013', 'T')\"}\n",
      "What is all the information about hiring?\n"
     ]
    },
    {
     "name": "stderr",
     "output_type": "stream",
     "text": [
      "Generating SQL: 100%|██████████| 48/48 [12:08<00:00, 15.18s/q]"
     ]
    },
    {
     "name": "stdout",
     "output_type": "stream",
     "text": [
      "✅ Success at index 47\n",
      "{'db_id': 'employee_hire_evaluation', 'question': 'What is all the information about hiring?', 'generated_sql': '', 'result': '', 'gold_sql': 'select * from hiring', 'gold_result': \"('4', '4', '2012', 'T'), ('1', '1', '2009', 'T'), ('2', '6', '2010', 'F'), ('8', '3', '2011', 'F'), ('6', '7', '2008', 'T'), ('1', '2', '2003', 'T'), ('5', '5', '2013', 'T')\"}\n"
     ]
    },
    {
     "name": "stderr",
     "output_type": "stream",
     "text": [
      "\n"
     ]
    }
   ],
   "source": [
    "import json\n",
    "import os\n",
    "from tqdm import tqdm\n",
    "\n",
    "save_path = \"easy_answers.json\"\n",
    "\n",
    "# Load previous progress if available\n",
    "if os.path.exists(save_path):\n",
    "    with open(save_path, \"r\") as f:\n",
    "        easy_answers = json.load(f)\n",
    "else:\n",
    "    easy_answers = []\n",
    "\n",
    "start_index = len(easy_answers)\n",
    "\n",
    "# Wrap tqdm around the remaining examples\n",
    "for i in tqdm(range(start_index, len(golden_data_easy)), desc=\"Generating SQL\", unit=\"q\"):\n",
    "    item = golden_data_easy[i]\n",
    "    try:\n",
    "        print(item[\"question\"])\n",
    "        system_message = \"\"\"\n",
    "        You are an agent designed to interact with a SQL database.\n",
    "        Given an input question, create a syntactically correct {dialect} query to run,\n",
    "        then look at the results of the query and return the answer.\n",
    "        You can order the results by a relevant column to return the most interesting\n",
    "        examples in the database. Never query for all the columns from a specific table,\n",
    "        only ask for the relevant columns given the question.\n",
    "\n",
    "        You MUST double check your query before executing it. If you get an error while\n",
    "        executing a query, rewrite the query and try again.\n",
    "\n",
    "        DO NOT make any DML statements (INSERT, UPDATE, DELETE, DROP etc.) to the\n",
    "        database.\n",
    "\n",
    "        The tables in the database is given as {table_names}. To start you should ALWAYS look at the tables and their columns in the database to see what you\n",
    "        can query. Do NOT skip this step.\n",
    "\n",
    "        Then you should query the schema of the most relevant tables.\n",
    "        \"\"\".format(\n",
    "        dialect=\"SQLite\",\n",
    "        table_names=db.get_usable_table_names()\n",
    "        )\n",
    "        db = SQLDatabase.from_uri(f\"sqlite:////Users/onurcanmemis/Downloads/spider_data/database/{item['db_id']}/{item['db_id']}.sqlite\")\n",
    "        toolkit = SQLDatabaseToolkit(db=db, llm=llm)\n",
    "        tools = toolkit.get_tools()\n",
    "        agent_executor = create_react_agent(llm, tools, prompt=system_message)\n",
    "        answer=agent_executor.invoke({\"messages\": [{\"role\": \"user\", \"content\": item[\"question\"]}]},\n",
    "                                     config={\"recursion_limit\": 10})\n",
    "        #answers.update({\"query\":extract_sql_code_block(answer.get(\"messages\")[-3].content),\"return\":extract_sql_code_block(answer.get(\"messages\")[-2].content)})\n",
    "        generated_query=extract_sql_and_result_from_agent_output(answer)[\"generated_sql\"]\n",
    "        generated_result=extract_sql_and_result_from_agent_output(answer)[\"generated_result\"]\n",
    "        easy_answers.append({\n",
    "            \"db_id\": item[\"db_id\"],\n",
    "            \"question\": item[\"question\"],\n",
    "            \"generated_sql\": generated_query or \"\",\n",
    "            \"result\": generated_result or \"\",\n",
    "            \"gold_sql\":item[\"query\"],\n",
    "            \"gold_result\":item[\"result\"]\n",
    "        })\n",
    "        print(f\"✅ Success at index {i}\")\n",
    "        print(easy_answers[i])\n",
    "\n",
    "        # Save progress after each successful query\n",
    "        with open(save_path, \"w\") as f:\n",
    "            json.dump(easy_answers, f, indent=2)\n",
    "\n",
    "    except Exception as e:\n",
    "        error_msg = str(e)\n",
    "        if \"GRAPH_RECURSION_LIMIT\" in error_msg or \"Recursion limit\" in error_msg:\n",
    "            print(f\"⚠️ Recursion limit hit at index {i}. Skipping.\")\n",
    "            easy_answers.append({\n",
    "            \"db_id\": item[\"db_id\"],\n",
    "            \"question\": item[\"question\"],\n",
    "            \"generated_sql\": \"\",\n",
    "            \"result\": \"\"})\n",
    "            print(easy_answers[i])\n",
    "        elif \"tool_use_failed\" in error_msg or \"table\" in error_msg.lower():\n",
    "            print(f\"⚠️ Tool failure or table issue at index {i}. Skipping.\")\n",
    "            break\n",
    "        else:\n",
    "            print(f\"❌ Error at index {i}: {e}\")\n",
    "            break\n",
    "\n",
    "        with open(save_path, \"w\") as f:\n",
    "            json.dump(easy_answers, f, indent=2)"
   ]
  },
  {
   "cell_type": "code",
   "execution_count": 64,
   "id": "9bc64b86",
   "metadata": {},
   "outputs": [
    {
     "name": "stdout",
     "output_type": "stream",
     "text": [
      "Example prediction: (\"SELECT COUNT(*) FROM teacher WHERE role = 'singer'\", [])\n",
      "Example gold: ('select count(*) from singer', [('6',)])\n"
     ]
    }
   ],
   "source": [
    "import json\n",
    "import ast\n",
    "\n",
    "# Load the merged JSON file\n",
    "with open(\"easy_answers.json\", \"r\") as f:\n",
    "    data = json.load(f)\n",
    "\n",
    "# Utility to parse result string into list of tuples\n",
    "def parse_result_string(result_str):\n",
    "    try:\n",
    "        parsed = ast.literal_eval(f\"[{result_str}]\")  # convert comma-separated tuples into a list\n",
    "        return parsed if isinstance(parsed, list) else []\n",
    "    except Exception:\n",
    "        return []\n",
    "\n",
    "# Build prediction and gold lists\n",
    "predictions = []\n",
    "gold_data = []\n",
    "\n",
    "for item in data:\n",
    "    pred_sql = item.get(\"generated_sql\", \"\")\n",
    "    pred_result = parse_result_string(item.get(\"result\", \"\"))\n",
    "\n",
    "    gold_sql = item.get(\"gold_sql\", \"\")\n",
    "    gold_result = parse_result_string(item.get(\"gold_result\", \"\"))\n",
    "\n",
    "    predictions.append((pred_sql, pred_result))\n",
    "    gold_data.append((gold_sql, gold_result))\n",
    "\n",
    "# Check samples\n",
    "print(\"Example prediction:\", predictions[0])\n",
    "print(\"Example gold:\", gold_data[0])"
   ]
  },
  {
   "cell_type": "markdown",
   "id": "85d97649",
   "metadata": {},
   "source": [
    "## Evaluation"
   ]
  },
  {
   "cell_type": "code",
   "execution_count": 57,
   "id": "b85e2a06",
   "metadata": {},
   "outputs": [],
   "source": [
    "from typing import List, Tuple, Dict\n",
    "import sqlparse\n",
    "\n",
    "def normalize_sql(sql):\n",
    "    sql = sql.strip().rstrip(';')\n",
    "    parsed = sqlparse.format(sql, keyword_case='lower', strip_comments=True, reindent=True)\n",
    "    return \" \".join(parsed.strip().split()).lower()\n",
    "\n",
    "def normalize_result(result):\n",
    "    if not result or not isinstance(result, list):\n",
    "        return set()\n",
    "\n",
    "    normalized = set()\n",
    "    for row in result:\n",
    "        if row is None:\n",
    "            continue  # skip invalid rows\n",
    "        try:\n",
    "            normalized.add(tuple(str(item).strip() for item in row))\n",
    "        except Exception:\n",
    "            continue  # skip malformed rows\n",
    "\n",
    "    return normalized\n",
    "def extract_components(sql):\n",
    "    parsed = sqlparse.parse(sql)\n",
    "    if not parsed:\n",
    "        return {\"select\": set(), \"from\": set(), \"where\": set()}\n",
    "    stmt = parsed[0]\n",
    "\n",
    "    select_tokens = set()\n",
    "    from_tokens = set()\n",
    "    where_tokens = set()\n",
    "\n",
    "    is_select = False\n",
    "    is_from = False\n",
    "    is_where = False\n",
    "\n",
    "    for token in stmt.tokens:\n",
    "        if token.is_group:\n",
    "            for subtoken in token.flatten():\n",
    "                tval = subtoken.value.lower().strip()\n",
    "                if tval in (\"select\", \"from\", \"where\"):\n",
    "                    is_select = tval == \"select\"\n",
    "                    is_from = tval == \"from\"\n",
    "                    is_where = tval == \"where\"\n",
    "                    continue\n",
    "                if is_select and subtoken.ttype in (sqlparse.tokens.Name, sqlparse.tokens.Wildcard):\n",
    "                    select_tokens.add(tval)\n",
    "                elif is_from and subtoken.ttype in (sqlparse.tokens.Name,):\n",
    "                    from_tokens.add(tval)\n",
    "                elif is_where and subtoken.ttype in (sqlparse.tokens.Name, sqlparse.tokens.Literal.Number.Integer, sqlparse.tokens.Operator.Comparison):\n",
    "                    where_tokens.add(tval)\n",
    "        else:\n",
    "            tval = token.value.lower().strip()\n",
    "            if tval in (\"select\", \"from\", \"where\"):\n",
    "                is_select = tval == \"select\"\n",
    "                is_from = tval == \"from\"\n",
    "                is_where = tval == \"where\"\n",
    "                continue\n",
    "            if is_select and token.ttype in (sqlparse.tokens.Name, sqlparse.tokens.Wildcard):\n",
    "                select_tokens.add(tval)\n",
    "            elif is_from and token.ttype in (sqlparse.tokens.Name,):\n",
    "                from_tokens.add(tval)\n",
    "            elif is_where and token.ttype in (sqlparse.tokens.Name, sqlparse.tokens.Literal.Number.Integer, sqlparse.tokens.Operator.Comparison):\n",
    "                where_tokens.add(tval)\n",
    "\n",
    "    return {\"select\": select_tokens, \"from\": from_tokens, \"where\": where_tokens}\n",
    "\n",
    "def jaccard_similarity(set1, set2):\n",
    "    if not set1 and not set2:\n",
    "        return 1.0\n",
    "    intersection = len(set1.intersection(set2))\n",
    "    union = len(set1.union(set2))\n",
    "    return intersection / union if union > 0 else 0\n",
    "def evaluate_predictions(\n",
    "    predictions: List[Tuple[str, List[Tuple]]],\n",
    "    gold_data: List[Tuple[str, List[Tuple]]]\n",
    ") -> Dict[str, float]:\n",
    "    \"\"\"\n",
    "    Evaluate a list of predicted SQL queries and their results against gold SQL queries and results.\n",
    "\n",
    "    Each element in the predictions and gold_data lists is a tuple:\n",
    "    (sql_query: str, result: List[Tuple])\n",
    "\n",
    "    Returns:\n",
    "    A dictionary with evaluation metrics.\n",
    "    \"\"\"\n",
    "    exact_match_count = 0\n",
    "    execution_match_count = 0\n",
    "    total = len(predictions)\n",
    "\n",
    "    jaccard_scores = {\n",
    "        \"select\": 0.0,\n",
    "        \"from\": 0.0,\n",
    "        \"where\": 0.0\n",
    "    }\n",
    "\n",
    "    for (pred_sql, pred_result), (gold_sql, gold_result) in zip(predictions, gold_data):\n",
    "        norm_pred_sql = normalize_sql(pred_sql)\n",
    "        norm_gold_sql = normalize_sql(gold_sql)\n",
    "\n",
    "        norm_pred_result = normalize_result(pred_result)\n",
    "        norm_gold_result = normalize_result(gold_result)\n",
    "\n",
    "        if norm_pred_sql == norm_gold_sql:\n",
    "            exact_match_count += 1\n",
    "\n",
    "        if norm_pred_result == norm_gold_result:\n",
    "            execution_match_count += 1\n",
    "\n",
    "        pred_components = extract_components(norm_pred_sql)\n",
    "        gold_components = extract_components(norm_gold_sql)\n",
    "\n",
    "        for key in jaccard_scores.keys():\n",
    "            jaccard_scores[key] += jaccard_similarity(pred_components.get(key, set()), gold_components.get(key, set()))\n",
    "\n",
    "    # Average jaccard scores\n",
    "    for key in jaccard_scores:\n",
    "        jaccard_scores[key] /= total\n",
    "\n",
    "    metrics = {\n",
    "        \"total\": total,\n",
    "        \"exact_match_accuracy\": exact_match_count / total if total else 0.0,\n",
    "        \"execution_match_accuracy\": execution_match_count / total if total else 0.0,\n",
    "        \"select_jaccard\": jaccard_scores[\"select\"],\n",
    "        \"from_jaccard\": jaccard_scores[\"from\"],\n",
    "        \"where_jaccard\": jaccard_scores[\"where\"]\n",
    "    }\n",
    "\n",
    "    return metrics"
   ]
  },
  {
   "cell_type": "code",
   "execution_count": 127,
   "id": "4ea2c092",
   "metadata": {},
   "outputs": [
    {
     "name": "stdout",
     "output_type": "stream",
     "text": [
      "Example prediction: ('SELECT T1.country FROM singer AS T1 INNER JOIN singer_in_concert AS T2 ON T1.id = T2.singer_id INNER JOIN concert AS T3 ON T2.concert_id = T3.id WHERE T1.age > 40 INTERSECT SELECT T1.country FROM singer AS T1 INNER JOIN singer_in_concert AS T2 ON T1.id = T2.singer_id INNER JOIN concert AS T3 ON T2.concert_id = T3.id WHERE T1.age < 30', [])\n",
      "Example gold: ('select country from singer where age > 40 intersect select country from singer where age < 30', [('France',)])\n"
     ]
    }
   ],
   "source": [
    "import json\n",
    "import ast\n",
    "\n",
    "# Load the merged JSON file\n",
    "with open(\"hard_answers.json\", \"r\") as f:\n",
    "    data = json.load(f)\n",
    "\n",
    "# Utility to parse result string into list of tuples\n",
    "def parse_result_string(result_str):\n",
    "    try:\n",
    "        parsed = ast.literal_eval(f\"[{result_str}]\")  # convert comma-separated tuples into a list\n",
    "        return parsed if isinstance(parsed, list) else []\n",
    "    except Exception:\n",
    "        return []\n",
    "\n",
    "# Build prediction and gold lists\n",
    "hard_predictions = []\n",
    "hard_gold_data = []\n",
    "\n",
    "for item in data:\n",
    "    pred_sql = item.get(\"generated_sql\", \"\")\n",
    "    pred_result = parse_result_string(item.get(\"result\", \"\"))\n",
    "\n",
    "    gold_sql = item.get(\"gold_sql\", \"\")\n",
    "    gold_result = parse_result_string(item.get(\"gold_result\", \"\"))\n",
    "\n",
    "    hard_predictions.append((pred_sql, pred_result))\n",
    "    hard_gold_data.append((gold_sql, gold_result))\n",
    "\n",
    "# Check samples\n",
    "print(\"Example prediction:\", hard_predictions[0])\n",
    "print(\"Example gold:\", hard_gold_data[0])"
   ]
  },
  {
   "cell_type": "code",
   "execution_count": 128,
   "id": "c896f084",
   "metadata": {},
   "outputs": [
    {
     "data": {
      "text/plain": [
       "{'total': 15,\n",
       " 'exact_match_accuracy': 0.13333333333333333,\n",
       " 'execution_match_accuracy': 0.6666666666666666,\n",
       " 'select_jaccard': 0.8111111111111111,\n",
       " 'from_jaccard': 0.674074074074074,\n",
       " 'where_jaccard': 0.88}"
      ]
     },
     "execution_count": 128,
     "metadata": {},
     "output_type": "execute_result"
    }
   ],
   "source": [
    "evaluate_predictions(hard_predictions, hard_gold_data)"
   ]
  },
  {
   "cell_type": "code",
   "execution_count": 129,
   "id": "bf1841f1",
   "metadata": {},
   "outputs": [
    {
     "name": "stdout",
     "output_type": "stream",
     "text": [
      "Example prediction: ('SELECT DISTINCT country FROM singer WHERE age > 20', [('France',), ('Netherlands',), ('United States',)])\n",
      "Example gold: ('select distinct country from singer where age > 20', [('Netherlands',), ('France',), ('United States',)])\n"
     ]
    }
   ],
   "source": [
    "import json\n",
    "import ast\n",
    "\n",
    "# Load the merged JSON file\n",
    "with open(\"medium_answers.json\", \"r\") as f:\n",
    "    data = json.load(f)\n",
    "\n",
    "# Utility to parse result string into list of tuples\n",
    "def parse_result_string(result_str):\n",
    "    try:\n",
    "        parsed = ast.literal_eval(f\"[{result_str}]\")  # convert comma-separated tuples into a list\n",
    "        return parsed if isinstance(parsed, list) else []\n",
    "    except Exception:\n",
    "        return []\n",
    "\n",
    "# Build prediction and gold lists\n",
    "medium_predictions = []\n",
    "medium_gold_data = []\n",
    "\n",
    "for item in data:\n",
    "    pred_sql = item.get(\"generated_sql\", \"\")\n",
    "    pred_result = parse_result_string(item.get(\"result\", \"\"))\n",
    "\n",
    "    gold_sql = item.get(\"gold_sql\", \"\")\n",
    "    gold_result = parse_result_string(item.get(\"gold_result\", \"\"))\n",
    "\n",
    "    medium_predictions.append((pred_sql, pred_result))\n",
    "    medium_gold_data.append((gold_sql, gold_result))\n",
    "\n",
    "# Check samples\n",
    "print(\"Example prediction:\", medium_predictions[0])\n",
    "print(\"Example gold:\", medium_gold_data[0])"
   ]
  },
  {
   "cell_type": "code",
   "execution_count": 130,
   "id": "a65e5687",
   "metadata": {},
   "outputs": [
    {
     "data": {
      "text/plain": [
       "{'total': 23,\n",
       " 'exact_match_accuracy': 0.7391304347826086,\n",
       " 'execution_match_accuracy': 0.782608695652174,\n",
       " 'select_jaccard': 0.9043478260869564,\n",
       " 'from_jaccard': 0.9195134575569359,\n",
       " 'where_jaccard': 1.0}"
      ]
     },
     "execution_count": 130,
     "metadata": {},
     "output_type": "execute_result"
    }
   ],
   "source": [
    "evaluate_predictions(medium_predictions, medium_gold_data)"
   ]
  },
  {
   "cell_type": "code",
   "execution_count": 131,
   "id": "c7b01668",
   "metadata": {},
   "outputs": [
    {
     "name": "stdout",
     "output_type": "stream",
     "text": [
      "Example prediction: (\"SELECT COUNT(*) FROM teacher WHERE role = 'singer'\", [])\n",
      "Example gold: ('select count(*) from singer', [('6',)])\n"
     ]
    }
   ],
   "source": [
    "import json\n",
    "import ast\n",
    "\n",
    "# Load the merged JSON file\n",
    "with open(\"easy_answers.json\", \"r\") as f:\n",
    "    data = json.load(f)\n",
    "\n",
    "# Utility to parse result string into list of tuples\n",
    "def parse_result_string(result_str):\n",
    "    try:\n",
    "        parsed = ast.literal_eval(f\"[{result_str}]\")  # convert comma-separated tuples into a list\n",
    "        return parsed if isinstance(parsed, list) else []\n",
    "    except Exception:\n",
    "        return []\n",
    "\n",
    "# Build prediction and gold lists\n",
    "easy_predictions = []\n",
    "easy_gold_data = []\n",
    "\n",
    "for item in data:\n",
    "    pred_sql = item.get(\"generated_sql\", \"\")\n",
    "    pred_result = parse_result_string(item.get(\"result\", \"\"))\n",
    "\n",
    "    gold_sql = item.get(\"gold_sql\", \"\")\n",
    "    gold_result = parse_result_string(item.get(\"gold_result\", \"\"))\n",
    "\n",
    "    easy_predictions.append((pred_sql, pred_result))\n",
    "    easy_gold_data.append((gold_sql, gold_result))\n",
    "\n",
    "# Check samples\n",
    "print(\"Example prediction:\", easy_predictions[0])\n",
    "print(\"Example gold:\", easy_gold_data[0])"
   ]
  },
  {
   "cell_type": "code",
   "execution_count": 132,
   "id": "a349e151",
   "metadata": {},
   "outputs": [
    {
     "data": {
      "text/plain": [
       "[(\"SELECT COUNT(*) FROM teacher WHERE role = 'singer'\", []),\n",
       " ('SELECT COUNT(*) FROM singer', [('6',)]),\n",
       " ('SELECT name, country, age FROM singer ORDER BY age DESC',\n",
       "  [('Joe Sharp', 'Netherlands', '52'),\n",
       "   ('John Nizinik', 'France', '43'),\n",
       "   ('Justin Brown', 'France', '29'),\n",
       "   ('Rose White', 'France', '41'),\n",
       "   ('Timbaland', 'United States', '32'),\n",
       "   ('Tribal King', 'France', '25')]),\n",
       " ('SELECT COUNT(*) FROM singer', [('8',)]),\n",
       " ('SELECT COUNT(*) FROM singer', [('8',)]),\n",
       " ('SELECT birth_year, citizenship FROM singer',\n",
       "  [('1940.0', 'United States'),\n",
       "   ('1942.0', 'Chile'),\n",
       "   ('1944.0', 'France'),\n",
       "   ('1948.0', 'United States'),\n",
       "   ('1949.0', 'United States'),\n",
       "   ('1953.0', 'Australia'),\n",
       "   ('1961.0', 'United States'),\n",
       "   ('1962.0', 'Germany')]),\n",
       " ('SELECT birth_year, citizenship FROM singer',\n",
       "  [('1940.0', 'United States'),\n",
       "   ('1942.0', 'Chile'),\n",
       "   ('1944.0', 'France'),\n",
       "   ('1948.0', 'United States'),\n",
       "   ('1949.0', 'United States'),\n",
       "   ('1953.0', 'Australia'),\n",
       "   ('1961.0', 'United States'),\n",
       "   ('1962.0', 'Germany')]),\n",
       " (\"SELECT name FROM singer WHERE citizenship != 'France'\",\n",
       "  [('Abigail Johnson',),\n",
       "   ('Alice Walton',),\n",
       "   ('Christy Walton',),\n",
       "   ('Gina Rinehart',),\n",
       "   ('Iris Fontbona',),\n",
       "   ('Jacqueline Mars',),\n",
       "   ('Susanne Klatten',)]),\n",
       " ('SELECT COUNT(*) FROM singer WHERE age < 30', []),\n",
       " ('SELECT COUNT(*) FROM dogs WHERE age < (SELECT AVG(age) FROM dogs)',\n",
       "  [('9',)]),\n",
       " ('SELECT COUNT(*) FROM Dogs WHERE Age < (SELECT AVG(Age) FROM Dogs)',\n",
       "  [('9',)]),\n",
       " ('SELECT earnings FROM Poker_Players ORDER BY earnings DESC', []),\n",
       " ('SELECT earnings FROM poker_player ORDER BY earnings DESC',\n",
       "  [('104871.0',), ('142800.0',), ('189233.0',), ('476090.0',), ('596462.0',)]),\n",
       " ('SELECT AVG(earnings) FROM poker_player', [('301891.2',)]),\n",
       " ('SELECT AVG(earnings) FROM poker_player', [('301891.2',)]),\n",
       " ('', []),\n",
       " ('SELECT title FROM Cartoon ORDER BY title ASC',\n",
       "  [('Dawn of the Dead Man!',),\n",
       "   ('Day of the Dark Knight!',),\n",
       "   ('Deep Cover for Batman!',),\n",
       "   ('Enter the Outsiders!',),\n",
       "   ('Evil Under the Sea!',),\n",
       "   ('Fall of the Blue Beetle!',),\n",
       "   ('Invasion of the Secret Santas!',),\n",
       "   ('Journey to the Center of the Bat!',),\n",
       "   ('Return of the Fearsome Fangs!',),\n",
       "   ('Terror on Dinosaur Island!',),\n",
       "   ('The Eyes of Despero!',),\n",
       "   ('The Rise of the Blue Beetle!',)]),\n",
       " (\"SELECT COUNT(*) FROM TV_Channel WHERE language = 'English'\", [('3',)]),\n",
       " ('SELECT Episode FROM TV_series ORDER BY rating',\n",
       "  [('A Love of a Lifetime',),\n",
       "   ('Blowback',),\n",
       "   ('Double Down',),\n",
       "   ('Emily',),\n",
       "   ('Friendly Skies',),\n",
       "   ('Game Three',),\n",
       "   ('Home By Another Way',),\n",
       "   ('Keepers',),\n",
       "   ('The Hanged Man',),\n",
       "   ('The Legend of Dylan McCleen',),\n",
       "   ('The Year of the Rabbit',),\n",
       "   ('Winterland',)]),\n",
       " ('SELECT MIN(share), MAX(share) FROM TV_series', [('5.0', '9.0')]),\n",
       " ('SELECT MAX(share), MIN(share) FROM TV_series', [('9.0', '5.0')]),\n",
       " ('', []),\n",
       " ('SELECT COUNT(*) FROM players', [('20662',)]),\n",
       " ('SELECT COUNT(*) FROM matches', [('278',)]),\n",
       " ('SELECT COUNT(*) FROM matches', [('278',)]),\n",
       " ('SELECT AVG(T1.rank) FROM rankings AS T1 INNER JOIN matches AS T2 ON T1.player_id = T2.winner_id',\n",
       "  []),\n",
       " ('', []),\n",
       " ('SELECT first_name, last_name FROM players ORDER BY birth_date', []),\n",
       " (\"SELECT COUNT(*) FROM players WHERE role = 'teacher'\", []),\n",
       " ('SELECT COUNT(*) FROM teacher', [('7',)]),\n",
       " ('SELECT name FROM teacher ORDER BY age ASC',\n",
       "  [('Anne Walker',),\n",
       "   ('Gustaaf Deloor',),\n",
       "   ('John Deloor',),\n",
       "   ('Joseph Huts',),\n",
       "   ('Kearsley Brown',),\n",
       "   ('Lucy Wong',),\n",
       "   ('Vicente Carretero',)]),\n",
       " ('SELECT name FROM teacher ORDER BY age ASC',\n",
       "  [('Anne Walker',),\n",
       "   ('Gustaaf Deloor',),\n",
       "   ('John Deloor',),\n",
       "   ('Joseph Huts',),\n",
       "   ('Kearsley Brown',),\n",
       "   ('Lucy Wong',),\n",
       "   ('Vicente Carretero',)]),\n",
       " ('SELECT age, hometown FROM teacher',\n",
       "  [('26', 'Farnworth Municipal Borough'),\n",
       "   ('29', 'Bolton County Borough'),\n",
       "   ('32', 'Blackrod Urban District'),\n",
       "   ('33', 'Horwich Urban District'),\n",
       "   ('39', 'Turton Urban District'),\n",
       "   ('41', 'Little Lever Urban District'),\n",
       "   ('45', 'Kearsley Urban District')]),\n",
       " ('SELECT age, hometown FROM teacher',\n",
       "  [('26', 'Farnworth Municipal Borough'),\n",
       "   ('29', 'Bolton County Borough'),\n",
       "   ('32', 'Blackrod Urban District'),\n",
       "   ('33', 'Horwich Urban District'),\n",
       "   ('39', 'Turton Urban District'),\n",
       "   ('41', 'Little Lever Urban District'),\n",
       "   ('45', 'Kearsley Urban District')]),\n",
       " (\"SELECT name FROM teacher WHERE hometown != 'Little Lever Urban District'\",\n",
       "  [('Gustaaf Deloor',),\n",
       "   ('John Deloor',),\n",
       "   ('Joseph Huts',),\n",
       "   ('Kearsley Brown',),\n",
       "   ('Lucy Wong',),\n",
       "   ('Vicente Carretero',)]),\n",
       " (\"SELECT name FROM teacher WHERE hometown != 'Little Lever Urban District'\",\n",
       "  [('Gustaaf Deloor',),\n",
       "   ('John Deloor',),\n",
       "   ('Joseph Huts',),\n",
       "   ('Kearsley Brown',),\n",
       "   ('Lucy Wong',),\n",
       "   ('Vicente Carretero',)]),\n",
       " ('SELECT city, COUNT(*) FROM teacher GROUP BY city', []),\n",
       " ('SELECT city, COUNT(*) FROM employee GROUP BY city',\n",
       "  [('Bath', '3'),\n",
       "   ('Bristol', '3'),\n",
       "   ('Leicester', '1'),\n",
       "   ('Sale', '1'),\n",
       "   ('Wasps', '2')]),\n",
       " ('SELECT location, COUNT(*) FROM shop GROUP BY location',\n",
       "  [('Espoo', '1'),\n",
       "   ('Helsinki', '1'),\n",
       "   ('Jakobstad', '1'),\n",
       "   ('Kotka', '1'),\n",
       "   ('Kuopio', '1'),\n",
       "   ('Lahti', '1'),\n",
       "   ('Mariehamn', '1'),\n",
       "   ('Turku', '1'),\n",
       "   ('Valkeakoski', '1')]),\n",
       " ('SELECT location, COUNT(*) FROM shop GROUP BY location',\n",
       "  [('Espoo', '1'),\n",
       "   ('Helsinki', '1'),\n",
       "   ('Jakobstad', '1'),\n",
       "   ('Kotka', '1'),\n",
       "   ('Kuopio', '1'),\n",
       "   ('Lahti', '1'),\n",
       "   ('Mariehamn', '1'),\n",
       "   ('Turku', '1'),\n",
       "   ('Valkeakoski', '1')]),\n",
       " ('SELECT COUNT(*) FROM employee', [('10',)]),\n",
       " ('SELECT COUNT(*) FROM employee', [('10',)]),\n",
       " ('', []),\n",
       " ('SELECT name FROM employee ORDER BY age ASC',\n",
       "  [('Andrew Sheridan',),\n",
       "   ('George Chuter',),\n",
       "   ('Jason Hobson',),\n",
       "   ('Lee Mears',),\n",
       "   ('Louis Deacon',),\n",
       "   ('Mark Regan',),\n",
       "   ('Matt Stevens',),\n",
       "   ('Phil Vickery',),\n",
       "   ('Steve Borthwick',),\n",
       "   ('Tim Payne',)]),\n",
       " ('SELECT SUM(bonus) FROM evaluation', [('19500.0',)]),\n",
       " ('SELECT SUM(bonus) FROM evaluation', [('19500.0',)]),\n",
       " ('', []),\n",
       " ('', [])]"
      ]
     },
     "execution_count": 132,
     "metadata": {},
     "output_type": "execute_result"
    }
   ],
   "source": [
    "easy_predictions"
   ]
  },
  {
   "cell_type": "code",
   "execution_count": 133,
   "id": "f03c5abf",
   "metadata": {},
   "outputs": [
    {
     "data": {
      "text/plain": [
       "{'total': 48,\n",
       " 'exact_match_accuracy': 0.5416666666666666,\n",
       " 'execution_match_accuracy': 0.6458333333333334,\n",
       " 'select_jaccard': 0.859375,\n",
       " 'from_jaccard': 0.7673611111111112,\n",
       " 'where_jaccard': 0.9583333333333334}"
      ]
     },
     "execution_count": 133,
     "metadata": {},
     "output_type": "execute_result"
    }
   ],
   "source": [
    "evaluate_predictions(easy_predictions, easy_gold_data)"
   ]
  },
  {
   "cell_type": "markdown",
   "id": "690d0859",
   "metadata": {},
   "source": [
    "## Logic Equivalence Check"
   ]
  },
  {
   "cell_type": "code",
   "execution_count": 134,
   "id": "f71f34c4",
   "metadata": {},
   "outputs": [
    {
     "name": "stdout",
     "output_type": "stream",
     "text": [
      "✅ JSON files written with question and execution_result.\n"
     ]
    }
   ],
   "source": [
    "import json\n",
    "\n",
    "# Helper function\n",
    "def extract_question_and_result(file_path):\n",
    "    with open(file_path, \"r\") as f:\n",
    "        lines = f.readlines()\n",
    "\n",
    "    data = []\n",
    "    current = {}\n",
    "\n",
    "    for line in lines:\n",
    "        line = line.strip()\n",
    "        if line.startswith(\"Question:\"):\n",
    "            current[\"question\"] = line.replace(\"Question:\", \"\").strip()\n",
    "        elif line.startswith(\"Execution Result:\"):\n",
    "            current[\"execution_result\"] = line.replace(\"Execution Result:\", \"\").strip()\n",
    "            if \"question\" in current:  # Ensure both parts exist\n",
    "                data.append(current)\n",
    "            current = {}  # Reset for next instance\n",
    "\n",
    "    return data\n",
    "\n",
    "# Process each difficulty file\n",
    "easy_data = extract_question_and_result(\"easy.txt\")\n",
    "medium_data = extract_question_and_result(\"medium.txt\")\n",
    "hard_data = extract_question_and_result(\"hard.txt\")\n",
    "\n",
    "# Write to JSON\n",
    "with open(\"questions_easy.json\", \"w\") as f:\n",
    "    json.dump(easy_data, f, indent=2)\n",
    "\n",
    "with open(\"questions_medium.json\", \"w\") as f:\n",
    "    json.dump(medium_data, f, indent=2)\n",
    "\n",
    "with open(\"questions_hard.json\", \"w\") as f:\n",
    "    json.dump(hard_data, f, indent=2)\n",
    "\n",
    "print(\"✅ JSON files written with question and execution_result.\")"
   ]
  },
  {
   "cell_type": "code",
   "execution_count": 135,
   "id": "6c4f5e85",
   "metadata": {},
   "outputs": [
    {
     "name": "stdout",
     "output_type": "stream",
     "text": [
      "Number of easy questions: 48\n",
      "Number of medium questions: 23\n",
      "Number of hard questions: 15\n"
     ]
    }
   ],
   "source": [
    "with open(\"questions_easy.json\", \"r\") as f:\n",
    "    easy_data = json.load(f)\n",
    "\n",
    "with open(\"questions_medium.json\", \"r\") as f:\n",
    "    medium_data = json.load(f)\n",
    "\n",
    "with open(\"questions_hard.json\", \"r\") as f:\n",
    "    hard_data = json.load(f)\n",
    "\n",
    "print(\"Number of easy questions:\", len(easy_data))\n",
    "print(\"Number of medium questions:\", len(medium_data))\n",
    "print(\"Number of hard questions:\", len(hard_data))"
   ]
  },
  {
   "cell_type": "code",
   "execution_count": 140,
   "id": "b01f0fbb",
   "metadata": {},
   "outputs": [],
   "source": [
    "easy_execution=[]\n",
    "medium_execution=[]\n",
    "hard_execution=[]\n",
    "\n",
    "for item in easy_predictions:\n",
    "    easy_execution.append(item[1])\n",
    "\n",
    "for item in medium_predictions:\n",
    "    medium_execution.append(item[1])\n",
    "\n",
    "for item in hard_predictions:\n",
    "    hard_execution.append(item[1])\n",
    "\n",
    "easy_execution=[str(item) for item in easy_execution]\n",
    "medium_execution=[str(item) for item in medium_execution]\n",
    "hard_execution=[str(item) for item in hard_execution]"
   ]
  },
  {
   "cell_type": "code",
   "execution_count": 137,
   "id": "780d6a6a",
   "metadata": {},
   "outputs": [],
   "source": [
    "custom_easy=[]\n",
    "custom_medium=[]\n",
    "custom_hard=[]\n",
    "\n",
    "for item in easy_data:\n",
    "    custom_easy.append(item[\"execution_result\"].replace(\"{\", \"[\").replace(\"}\", \"]\"))\n",
    "\n",
    "for item in medium_data:\n",
    "    custom_medium.append(item[\"execution_result\"].replace(\"{\", \"[\").replace(\"}\", \"]\"))\n",
    "\n",
    "for item in hard_data:\n",
    "    custom_hard.append(item[\"execution_result\"].replace(\"{\", \"[\").replace(\"}\", \"]\"))"
   ]
  },
  {
   "cell_type": "code",
   "execution_count": 148,
   "id": "9fb0d14d",
   "metadata": {},
   "outputs": [],
   "source": [
    "import ast\n",
    "\n",
    "def normalize_result_string(result_str):\n",
    "    \"\"\"\n",
    "    Converts a result string like \"[('Alice',), ('Bob',)]\" or \"('Alice',), ('Bob',)\" into a set of tuples.\n",
    "    Handles empty strings and malformed inputs gracefully.\n",
    "    \"\"\"\n",
    "    if not result_str.strip():\n",
    "        return set()\n",
    "\n",
    "    try:\n",
    "        # Ensure it's parsable as a list: wrap if not\n",
    "        if not result_str.strip().startswith(\"[\"):\n",
    "            result_str = \"[\" + result_str + \"]\"\n",
    "\n",
    "        parsed = ast.literal_eval(result_str)\n",
    "        if isinstance(parsed, list):\n",
    "            return set(tuple(str(x).strip() for x in row) for row in parsed)\n",
    "    except Exception:\n",
    "        pass\n",
    "\n",
    "    return set()\n",
    "\n",
    "def logic_equivalence_score(langchain_results, agentic_results):\n",
    "    assert len(langchain_results) == len(agentic_results), \"Mismatched result lengths\"\n",
    "\n",
    "    total = len(langchain_results)\n",
    "    equivalent_count = 0\n",
    "\n",
    "    for l_result, a_result in zip(langchain_results, agentic_results):\n",
    "        if normalize_result_string(l_result) == normalize_result_string(a_result):\n",
    "            equivalent_count += 1\n",
    "\n",
    "    return equivalent_count / total if total > 0 else 0.0"
   ]
  },
  {
   "cell_type": "code",
   "execution_count": 149,
   "id": "2dd985c0",
   "metadata": {},
   "outputs": [
    {
     "data": {
      "text/plain": [
       "0.6458333333333334"
      ]
     },
     "execution_count": 149,
     "metadata": {},
     "output_type": "execute_result"
    }
   ],
   "source": [
    "logic_equivalence_score(easy_execution,custom_easy)"
   ]
  },
  {
   "cell_type": "code",
   "execution_count": 150,
   "id": "f7b3020e",
   "metadata": {},
   "outputs": [
    {
     "data": {
      "text/plain": [
       "0.782608695652174"
      ]
     },
     "execution_count": 150,
     "metadata": {},
     "output_type": "execute_result"
    }
   ],
   "source": [
    "logic_equivalence_score(medium_execution,custom_medium)"
   ]
  },
  {
   "cell_type": "code",
   "execution_count": 151,
   "id": "4dee2abc",
   "metadata": {},
   "outputs": [
    {
     "data": {
      "text/plain": [
       "0.6"
      ]
     },
     "execution_count": 151,
     "metadata": {},
     "output_type": "execute_result"
    }
   ],
   "source": [
    "logic_equivalence_score(hard_execution,custom_hard)"
   ]
  },
  {
   "cell_type": "code",
   "execution_count": null,
   "id": "ebbf84fc",
   "metadata": {},
   "outputs": [],
   "source": []
  }
 ],
 "metadata": {
  "kernelspec": {
   "display_name": "ML",
   "language": "python",
   "name": "python3"
  },
  "language_info": {
   "codemirror_mode": {
    "name": "ipython",
    "version": 3
   },
   "file_extension": ".py",
   "mimetype": "text/x-python",
   "name": "python",
   "nbconvert_exporter": "python",
   "pygments_lexer": "ipython3",
   "version": "3.9.6"
  }
 },
 "nbformat": 4,
 "nbformat_minor": 5
}
